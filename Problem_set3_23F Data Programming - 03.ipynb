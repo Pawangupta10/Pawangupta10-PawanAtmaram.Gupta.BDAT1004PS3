{
 "cells": [
  {
   "cell_type": "markdown",
   "id": "44b2e5ed-d09b-4f71-a177-b0719ec235b8",
   "metadata": {},
   "source": [
    "# Answer 1"
   ]
  },
  {
   "cell_type": "code",
   "execution_count": 2,
   "id": "a6fe4d83-66c0-4944-8d5a-b10a98ad7939",
   "metadata": {
    "tags": []
   },
   "outputs": [],
   "source": [
    "import pandas as pd"
   ]
  },
  {
   "cell_type": "code",
   "execution_count": 10,
   "id": "2d57c004-1638-4d10-aed4-4a17d1577cd2",
   "metadata": {
    "tags": []
   },
   "outputs": [],
   "source": [
    "URL = \"https://raw.githubusercontent.com/justmarkham/DAT8/master/data/u.user\"\n",
    "users = pd.read_csv(URL, sep='|')"
   ]
  },
  {
   "cell_type": "code",
   "execution_count": 16,
   "id": "02a482ad-1f16-4375-978f-d8b2c5034331",
   "metadata": {
    "tags": []
   },
   "outputs": [
    {
     "name": "stdout",
     "output_type": "stream",
     "text": [
      "The average age for individuals in each occupation is :  occupation\n",
      "administrator    38.746835\n",
      "artist           31.392857\n",
      "doctor           43.571429\n",
      "educator         42.010526\n",
      "engineer         36.388060\n",
      "entertainment    29.222222\n",
      "executive        38.718750\n",
      "healthcare       41.562500\n",
      "homemaker        32.571429\n",
      "lawyer           36.750000\n",
      "librarian        40.000000\n",
      "marketing        37.615385\n",
      "none             26.555556\n",
      "other            34.523810\n",
      "programmer       33.121212\n",
      "retired          63.071429\n",
      "salesman         35.666667\n",
      "scientist        35.548387\n",
      "student          22.081633\n",
      "technician       33.148148\n",
      "writer           36.311111\n",
      "Name: age, dtype: float64\n"
     ]
    }
   ],
   "source": [
    "Mean_Age_Per_Occupation = users.groupby('occupation')['age'].mean()\n",
    "print(\"The average age for individuals in each occupation is : \" , Mean_Age_Per_Occupation)"
   ]
  },
  {
   "cell_type": "code",
   "execution_count": 17,
   "id": "71f0c2a4-d336-4e03-b7e2-a99ffdbe38cf",
   "metadata": {
    "tags": []
   },
   "outputs": [
    {
     "name": "stdout",
     "output_type": "stream",
     "text": [
      "The male ratio for each occupation is :  occupation\n",
      "administrator    0.544304\n",
      "artist           0.535714\n",
      "doctor           1.000000\n",
      "educator         0.726316\n",
      "engineer         0.970149\n",
      "entertainment    0.888889\n",
      "executive        0.906250\n",
      "healthcare       0.312500\n",
      "homemaker        0.142857\n",
      "lawyer           0.833333\n",
      "librarian        0.431373\n",
      "marketing        0.615385\n",
      "none             0.555556\n",
      "other            0.657143\n",
      "programmer       0.909091\n",
      "retired          0.928571\n",
      "salesman         0.750000\n",
      "scientist        0.903226\n",
      "student          0.693878\n",
      "technician       0.962963\n",
      "writer           0.577778\n",
      "Name: gender, dtype: float64\n"
     ]
    }
   ],
   "source": [
    "Male_Ratio_Per_Occupation = users.groupby('occupation')['gender'].apply(lambda male: (male == 'M').sum() / male.count())\n",
    "Male_Ratio_Per_Occupation.sort_values(ascending=False)\n",
    "print(\"The male ratio for each occupation is : \", Male_Ratio_Per_Occupation)"
   ]
  },
  {
   "cell_type": "code",
   "execution_count": 20,
   "id": "3b304c94-c832-4e82-87c4-f60577c55a3c",
   "metadata": {
    "tags": []
   },
   "outputs": [
    {
     "name": "stdout",
     "output_type": "stream",
     "text": [
      "The minimum and maximum age for each occupation: \n",
      "               min  max\n",
      "occupation             \n",
      "administrator   21   70\n",
      "artist          19   48\n",
      "doctor          28   64\n",
      "educator        23   63\n",
      "engineer        22   70\n",
      "entertainment   15   50\n",
      "executive       22   69\n",
      "healthcare      22   62\n",
      "homemaker       20   50\n",
      "lawyer          21   53\n",
      "librarian       23   69\n",
      "marketing       24   55\n",
      "none            11   55\n",
      "other           13   64\n",
      "programmer      20   63\n",
      "retired         51   73\n",
      "salesman        18   66\n",
      "scientist       23   55\n",
      "student          7   42\n",
      "technician      21   55\n",
      "writer          18   60\n"
     ]
    }
   ],
   "source": [
    "Min_Max_Age_Per_Occupation = users.groupby('occupation')['age'].agg(['min', 'max'])\n",
    "print(\"The minimum and maximum age for each occupation: \")\n",
    "print(Min_Max_Age_Per_Occupation)"
   ]
  },
  {
   "cell_type": "code",
   "execution_count": 21,
   "id": "5a42bbe9-a8d3-41d8-a1c8-5352df537eec",
   "metadata": {
    "tags": []
   },
   "outputs": [
    {
     "name": "stdout",
     "output_type": "stream",
     "text": [
      "The average age categorized by occupation and gender\n",
      "occupation     gender\n",
      "administrator  F         40.638889\n",
      "               M         37.162791\n",
      "artist         F         30.307692\n",
      "               M         32.333333\n",
      "doctor         M         43.571429\n",
      "educator       F         39.115385\n",
      "               M         43.101449\n",
      "engineer       F         29.500000\n",
      "               M         36.600000\n",
      "entertainment  F         31.000000\n",
      "               M         29.000000\n",
      "executive      F         44.000000\n",
      "               M         38.172414\n",
      "healthcare     F         39.818182\n",
      "               M         45.400000\n",
      "homemaker      F         34.166667\n",
      "               M         23.000000\n",
      "lawyer         F         39.500000\n",
      "               M         36.200000\n",
      "librarian      F         40.000000\n",
      "               M         40.000000\n",
      "marketing      F         37.200000\n",
      "               M         37.875000\n",
      "none           F         36.500000\n",
      "               M         18.600000\n",
      "other          F         35.472222\n",
      "               M         34.028986\n",
      "programmer     F         32.166667\n",
      "               M         33.216667\n",
      "retired        F         70.000000\n",
      "               M         62.538462\n",
      "salesman       F         27.000000\n",
      "               M         38.555556\n",
      "scientist      F         28.333333\n",
      "               M         36.321429\n",
      "student        F         20.750000\n",
      "               M         22.669118\n",
      "technician     F         38.000000\n",
      "               M         32.961538\n",
      "writer         F         37.631579\n",
      "               M         35.346154\n",
      "Name: age, dtype: float64\n"
     ]
    }
   ],
   "source": [
    "Mean_Age_per_Occupation_By_Gender = users.groupby(['occupation', 'gender'])['age'].mean()\n",
    "print(\"The average age categorized by occupation and gender\")\n",
    "print(Mean_Age_per_Occupation_By_Gender)"
   ]
  },
  {
   "cell_type": "code",
   "execution_count": 22,
   "id": "25c8eda7-3992-4688-91a9-f7815ff88529",
   "metadata": {
    "tags": []
   },
   "outputs": [
    {
     "name": "stdout",
     "output_type": "stream",
     "text": [
      "Percentage distribution of males and females based on occupation and gender\n",
      "occupation     gender\n",
      "administrator  F         0.455696\n",
      "               M         0.544304\n",
      "artist         F         0.464286\n",
      "               M         0.535714\n",
      "doctor         M         1.000000\n",
      "educator       F         0.273684\n",
      "               M         0.726316\n",
      "engineer       F         0.029851\n",
      "               M         0.970149\n",
      "entertainment  F         0.111111\n",
      "               M         0.888889\n",
      "executive      F         0.093750\n",
      "               M         0.906250\n",
      "healthcare     F         0.687500\n",
      "               M         0.312500\n",
      "homemaker      F         0.857143\n",
      "               M         0.142857\n",
      "lawyer         F         0.166667\n",
      "               M         0.833333\n",
      "librarian      F         0.568627\n",
      "               M         0.431373\n",
      "marketing      F         0.384615\n",
      "               M         0.615385\n",
      "none           F         0.444444\n",
      "               M         0.555556\n",
      "other          F         0.342857\n",
      "               M         0.657143\n",
      "programmer     F         0.090909\n",
      "               M         0.909091\n",
      "retired        F         0.071429\n",
      "               M         0.928571\n",
      "salesman       F         0.250000\n",
      "               M         0.750000\n",
      "scientist      F         0.096774\n",
      "               M         0.903226\n",
      "student        F         0.306122\n",
      "               M         0.693878\n",
      "technician     F         0.037037\n",
      "               M         0.962963\n",
      "writer         F         0.422222\n",
      "               M         0.577778\n",
      "dtype: float64\n"
     ]
    }
   ],
   "source": [
    "Gender_Percentage_Per_Occupation = users.groupby(['occupation', 'gender']).size() / users.groupby('occupation').size()\n",
    "print(\"Percentage distribution of males and females based on occupation and gender\")\n",
    "print(Gender_Percentage_Per_Occupation)"
   ]
  },
  {
   "cell_type": "markdown",
   "id": "17cff047-3eee-4c25-9186-1562c1ce0710",
   "metadata": {},
   "source": [
    "# Answer 2"
   ]
  },
  {
   "cell_type": "code",
   "execution_count": 23,
   "id": "8603ddf2-9d07-4dfb-8d52-ee481dd9c34a",
   "metadata": {
    "tags": []
   },
   "outputs": [
    {
     "name": "stdout",
     "output_type": "stream",
     "text": [
      "Index(['Team', 'Goals', 'Shots on target', 'Shots off target',\n",
      "       'Shooting Accuracy', '% Goals-to-shots', 'Total shots (inc. Blocked)',\n",
      "       'Hit Woodwork', 'Penalty goals', 'Penalties not scored', 'Headed goals',\n",
      "       'Passes', 'Passes completed', 'Passing Accuracy', 'Touches', 'Crosses',\n",
      "       'Dribbles', 'Corners Taken', 'Tackles', 'Clearances', 'Interceptions',\n",
      "       'Clearances off line', 'Clean Sheets', 'Blocks', 'Goals conceded',\n",
      "       'Saves made', 'Saves-to-shots ratio', 'Fouls Won', 'Fouls Conceded',\n",
      "       'Offsides', 'Yellow Cards', 'Red Cards', 'Subs on', 'Subs off',\n",
      "       'Players Used'],\n",
      "      dtype='object')\n"
     ]
    }
   ],
   "source": [
    "URL = \"https://raw.githubusercontent.com/guipsamora/pandas_exercises/master/02_Filtering_%26_Sorting/Euro12/Euro_2012_stats_TEAM.csv\"\n",
    "euro12 = pd.read_csv(URL, sep=',')\n",
    "\n",
    "print(euro12.columns)"
   ]
  },
  {
   "cell_type": "code",
   "execution_count": 25,
   "id": "0c532e24-b015-49b2-9830-baf7378667b2",
   "metadata": {
    "tags": []
   },
   "outputs": [
    {
     "name": "stdout",
     "output_type": "stream",
     "text": [
      "0      4\n",
      "1      4\n",
      "2      4\n",
      "3      5\n",
      "4      3\n",
      "5     10\n",
      "6      5\n",
      "7      6\n",
      "8      2\n",
      "9      2\n",
      "10     6\n",
      "11     1\n",
      "12     5\n",
      "13    12\n",
      "14     5\n",
      "15     2\n",
      "Name: Goals, dtype: int64\n"
     ]
    }
   ],
   "source": [
    "Goals_Column = euro12['Goals']\n",
    "print(Goals_Column)"
   ]
  },
  {
   "cell_type": "code",
   "execution_count": 26,
   "id": "01b3073e-df24-430d-999a-be1354a30e01",
   "metadata": {
    "tags": []
   },
   "outputs": [
    {
     "name": "stdout",
     "output_type": "stream",
     "text": [
      "Number of Teams Participated in Euro12 :  16\n"
     ]
    }
   ],
   "source": [
    "Team_Participated = euro12['Team'].nunique()\n",
    "print(\"Number of Teams Participated in Euro12 : \", Team_Participated)"
   ]
  },
  {
   "cell_type": "code",
   "execution_count": 27,
   "id": "c91d012f-f07b-46f9-9c93-bb93f739701b",
   "metadata": {
    "tags": []
   },
   "outputs": [
    {
     "name": "stdout",
     "output_type": "stream",
     "text": [
      "The Number of Columns in the dataset is:  35\n"
     ]
    }
   ],
   "source": [
    "Number_Of_Columns = euro12.shape[1]\n",
    "print(\"The Number of Columns in the dataset is: \", Number_Of_Columns)"
   ]
  },
  {
   "cell_type": "code",
   "execution_count": 28,
   "id": "bb574bce-afa7-439a-ae7c-de1431361098",
   "metadata": {
    "tags": []
   },
   "outputs": [
    {
     "name": "stdout",
     "output_type": "stream",
     "text": [
      "                   Team  Yellow Cards  Red Cards\n",
      "0               Croatia             9          0\n",
      "1        Czech Republic             7          0\n",
      "2               Denmark             4          0\n",
      "3               England             5          0\n",
      "4                France             6          0\n",
      "5               Germany             4          0\n",
      "6                Greece             9          1\n",
      "7                 Italy            16          0\n",
      "8           Netherlands             5          0\n",
      "9                Poland             7          1\n",
      "10             Portugal            12          0\n",
      "11  Republic of Ireland             6          1\n",
      "12               Russia             6          0\n",
      "13                Spain            11          0\n",
      "14               Sweden             7          0\n",
      "15              Ukraine             5          0\n"
     ]
    }
   ],
   "source": [
    "Discipline = euro12[['Team', 'Yellow Cards', 'Red Cards']]\n",
    "print(Discipline)"
   ]
  },
  {
   "cell_type": "code",
   "execution_count": 29,
   "id": "a4b865a6-25e9-460b-8a6f-2d639e20bdba",
   "metadata": {
    "tags": []
   },
   "outputs": [
    {
     "name": "stdout",
     "output_type": "stream",
     "text": [
      "                   Team  Yellow Cards  Red Cards\n",
      "2               Denmark             4          0\n",
      "5               Germany             4          0\n",
      "3               England             5          0\n",
      "8           Netherlands             5          0\n",
      "15              Ukraine             5          0\n",
      "4                France             6          0\n",
      "12               Russia             6          0\n",
      "1        Czech Republic             7          0\n",
      "14               Sweden             7          0\n",
      "0               Croatia             9          0\n",
      "13                Spain            11          0\n",
      "10             Portugal            12          0\n",
      "7                 Italy            16          0\n",
      "11  Republic of Ireland             6          1\n",
      "9                Poland             7          1\n",
      "6                Greece             9          1\n"
     ]
    }
   ],
   "source": [
    "Sorted_Cards = Discipline.sort_values(['Red Cards', 'Yellow Cards'])\n",
    "print(Sorted_Cards)"
   ]
  },
  {
   "cell_type": "code",
   "execution_count": 30,
   "id": "c5dc58ec-c119-4200-9aaf-7b4a06944a00",
   "metadata": {
    "tags": []
   },
   "outputs": [
    {
     "name": "stdout",
     "output_type": "stream",
     "text": [
      "The average number of yellow cards given per team is:  7.4375\n"
     ]
    }
   ],
   "source": [
    "Mean_Yellow_Card_Per_Team = euro12['Yellow Cards'].mean()\n",
    "print(\"The average number of yellow cards given per team is: \", Mean_Yellow_Card_Per_Team)"
   ]
  },
  {
   "cell_type": "code",
   "execution_count": 31,
   "id": "59c296ef-8b4a-4146-8af5-fda3ee13c4c4",
   "metadata": {},
   "outputs": [
    {
     "name": "stdout",
     "output_type": "stream",
     "text": [
      "Teams that scored more than six goals: \n",
      "  5     Germany\n",
      "13      Spain\n",
      "Name: Team, dtype: object\n"
     ]
    }
   ],
   "source": [
    "Teams_MoreThan_6_Goals = euro12.loc[euro12['Goals'] > 6, 'Team']\n",
    "print(\"Teams that scored more than six goals: \\n \", Teams_MoreThan_6_Goals)"
   ]
  },
  {
   "cell_type": "code",
   "execution_count": 32,
   "id": "aabf8eef-e15e-4794-94d5-9e2cc2805784",
   "metadata": {
    "tags": []
   },
   "outputs": [
    {
     "name": "stdout",
     "output_type": "stream",
     "text": [
      "Teams starts with G:\n",
      "  5    Germany\n",
      "6     Greece\n",
      "Name: Team, dtype: object\n"
     ]
    }
   ],
   "source": [
    "Teams_starts_with_g = euro12.loc[euro12['Team'].str.startswith('G'), 'Team']\n",
    "print(\"Teams starts with G:\\n \", Teams_starts_with_g)"
   ]
  },
  {
   "cell_type": "code",
   "execution_count": 33,
   "id": "6ad369a2-16f1-4cc7-bc2c-5cef731b737b",
   "metadata": {
    "tags": []
   },
   "outputs": [
    {
     "name": "stdout",
     "output_type": "stream",
     "text": [
      "The First seven columns are:\n",
      "                    Team  Goals  Shots on target  Shots off target  \\\n",
      "0               Croatia      4               13                12   \n",
      "1        Czech Republic      4               13                18   \n",
      "2               Denmark      4               10                10   \n",
      "3               England      5               11                18   \n",
      "4                France      3               22                24   \n",
      "5               Germany     10               32                32   \n",
      "6                Greece      5                8                18   \n",
      "7                 Italy      6               34                45   \n",
      "8           Netherlands      2               12                36   \n",
      "9                Poland      2               15                23   \n",
      "10             Portugal      6               22                42   \n",
      "11  Republic of Ireland      1                7                12   \n",
      "12               Russia      5                9                31   \n",
      "13                Spain     12               42                33   \n",
      "14               Sweden      5               17                19   \n",
      "15              Ukraine      2                7                26   \n",
      "\n",
      "   Shooting Accuracy % Goals-to-shots  Total shots (inc. Blocked)  \n",
      "0              51.9%            16.0%                          32  \n",
      "1              41.9%            12.9%                          39  \n",
      "2              50.0%            20.0%                          27  \n",
      "3              50.0%            17.2%                          40  \n",
      "4              37.9%             6.5%                          65  \n",
      "5              47.8%            15.6%                          80  \n",
      "6              30.7%            19.2%                          32  \n",
      "7              43.0%             7.5%                         110  \n",
      "8              25.0%             4.1%                          60  \n",
      "9              39.4%             5.2%                          48  \n",
      "10             34.3%             9.3%                          82  \n",
      "11             36.8%             5.2%                          28  \n",
      "12             22.5%            12.5%                          59  \n",
      "13             55.9%            16.0%                         100  \n",
      "14             47.2%            13.8%                          39  \n",
      "15             21.2%             6.0%                          38  \n"
     ]
    }
   ],
   "source": [
    "First_7_columns = euro12.iloc[:, :7]\n",
    "print(\"The First seven columns are:\\n\", First_7_columns)"
   ]
  },
  {
   "cell_type": "code",
   "execution_count": 34,
   "id": "1e5099a2-11e7-4e97-96fc-6b18f95e682f",
   "metadata": {
    "tags": []
   },
   "outputs": [
    {
     "name": "stdout",
     "output_type": "stream",
     "text": [
      "                   Team  Goals  Shots on target  Shots off target  \\\n",
      "0               Croatia      4               13                12   \n",
      "1        Czech Republic      4               13                18   \n",
      "2               Denmark      4               10                10   \n",
      "3               England      5               11                18   \n",
      "4                France      3               22                24   \n",
      "5               Germany     10               32                32   \n",
      "6                Greece      5                8                18   \n",
      "7                 Italy      6               34                45   \n",
      "8           Netherlands      2               12                36   \n",
      "9                Poland      2               15                23   \n",
      "10             Portugal      6               22                42   \n",
      "11  Republic of Ireland      1                7                12   \n",
      "12               Russia      5                9                31   \n",
      "13                Spain     12               42                33   \n",
      "14               Sweden      5               17                19   \n",
      "15              Ukraine      2                7                26   \n",
      "\n",
      "   Shooting Accuracy % Goals-to-shots  Total shots (inc. Blocked)  \\\n",
      "0              51.9%            16.0%                          32   \n",
      "1              41.9%            12.9%                          39   \n",
      "2              50.0%            20.0%                          27   \n",
      "3              50.0%            17.2%                          40   \n",
      "4              37.9%             6.5%                          65   \n",
      "5              47.8%            15.6%                          80   \n",
      "6              30.7%            19.2%                          32   \n",
      "7              43.0%             7.5%                         110   \n",
      "8              25.0%             4.1%                          60   \n",
      "9              39.4%             5.2%                          48   \n",
      "10             34.3%             9.3%                          82   \n",
      "11             36.8%             5.2%                          28   \n",
      "12             22.5%            12.5%                          59   \n",
      "13             55.9%            16.0%                         100   \n",
      "14             47.2%            13.8%                          39   \n",
      "15             21.2%             6.0%                          38   \n",
      "\n",
      "    Hit Woodwork  Penalty goals  Penalties not scored  ...  Clean Sheets  \\\n",
      "0              0              0                     0  ...             0   \n",
      "1              0              0                     0  ...             1   \n",
      "2              1              0                     0  ...             1   \n",
      "3              0              0                     0  ...             2   \n",
      "4              1              0                     0  ...             1   \n",
      "5              2              1                     0  ...             1   \n",
      "6              1              1                     1  ...             1   \n",
      "7              2              0                     0  ...             2   \n",
      "8              2              0                     0  ...             0   \n",
      "9              0              0                     0  ...             0   \n",
      "10             6              0                     0  ...             2   \n",
      "11             0              0                     0  ...             0   \n",
      "12             2              0                     0  ...             0   \n",
      "13             0              1                     0  ...             5   \n",
      "14             3              0                     0  ...             1   \n",
      "15             0              0                     0  ...             0   \n",
      "\n",
      "    Blocks  Goals conceded Saves made  Saves-to-shots ratio  Fouls Won  \\\n",
      "0       10               3         13                 81.3%         41   \n",
      "1       10               6          9                 60.1%         53   \n",
      "2       10               5         10                 66.7%         25   \n",
      "3       29               3         22                 88.1%         43   \n",
      "4        7               5          6                 54.6%         36   \n",
      "5       11               6         10                 62.6%         63   \n",
      "6       23               7         13                 65.1%         67   \n",
      "7       18               7         20                 74.1%        101   \n",
      "8        9               5         12                 70.6%         35   \n",
      "9        8               3          6                 66.7%         48   \n",
      "10      11               4         10                 71.5%         73   \n",
      "11      23               9         17                 65.4%         43   \n",
      "12       8               3         10                 77.0%         34   \n",
      "13       8               1         15                 93.8%        102   \n",
      "14      12               5          8                 61.6%         35   \n",
      "15       4               4         13                 76.5%         48   \n",
      "\n",
      "    Fouls Conceded  Offsides  Yellow Cards  Red Cards  \n",
      "0               62         2             9          0  \n",
      "1               73         8             7          0  \n",
      "2               38         8             4          0  \n",
      "3               45         6             5          0  \n",
      "4               51         5             6          0  \n",
      "5               49        12             4          0  \n",
      "6               48        12             9          1  \n",
      "7               89        16            16          0  \n",
      "8               30         3             5          0  \n",
      "9               56         3             7          1  \n",
      "10              90        10            12          0  \n",
      "11              51        11             6          1  \n",
      "12              43         4             6          0  \n",
      "13              83        19            11          0  \n",
      "14              51         7             7          0  \n",
      "15              31         4             5          0  \n",
      "\n",
      "[16 rows x 32 columns]\n"
     ]
    }
   ],
   "source": [
    "Excluding_Last_3 = euro12.iloc[:, :-3]\n",
    "print(Excluding_Last_3)"
   ]
  },
  {
   "cell_type": "code",
   "execution_count": 36,
   "id": "b3b58acd-d70a-4c2b-b23d-7c3fdee8a138",
   "metadata": {
    "tags": []
   },
   "outputs": [
    {
     "name": "stdout",
     "output_type": "stream",
     "text": [
      "       Team Shooting Accuracy\n",
      "3   England             50.0%\n",
      "7     Italy             43.0%\n",
      "12   Russia             22.5%\n"
     ]
    }
   ],
   "source": [
    "Shooting_Accuracy_Teams = ['England', 'Italy', 'Russia']\n",
    "Shooting_Accuracy = euro12.loc[euro12['Team'].isin(Shooting_Accuracy_Teams), ['Team', 'Shooting Accuracy']]\n",
    "print(Shooting_Accuracy)"
   ]
  },
  {
   "cell_type": "markdown",
   "id": "7f761021-3a3a-4831-995f-1222070e03a3",
   "metadata": {},
   "source": [
    "# Answer 3"
   ]
  },
  {
   "cell_type": "code",
   "execution_count": 37,
   "id": "c5a848a7-7911-46ef-8c23-c143e3867cc6",
   "metadata": {},
   "outputs": [],
   "source": [
    "import pandas as pd\n",
    "import numpy as np"
   ]
  },
  {
   "cell_type": "code",
   "execution_count": 38,
   "id": "20064073-d0dc-4add-b126-450605b24a90",
   "metadata": {
    "tags": []
   },
   "outputs": [],
   "source": [
    "Series_One = pd.Series(np.random.randint(1, 5, size=100))"
   ]
  },
  {
   "cell_type": "code",
   "execution_count": 39,
   "id": "a2d6a96b-15ec-422c-a9d7-9a17962d814c",
   "metadata": {
    "tags": []
   },
   "outputs": [],
   "source": [
    "Series_Two = pd.Series(np.random.randint(1, 4, size=100))"
   ]
  },
  {
   "cell_type": "code",
   "execution_count": 40,
   "id": "b54dbf23-9935-4fe5-96b0-aa3ab0a5c45f",
   "metadata": {
    "tags": []
   },
   "outputs": [],
   "source": [
    "Series_Three = pd.Series(np.random.randint(10000, 30001, size=100))"
   ]
  },
  {
   "cell_type": "code",
   "execution_count": 42,
   "id": "984ab17f-6c67-4ed7-b670-5fa2e0132556",
   "metadata": {
    "tags": []
   },
   "outputs": [
    {
     "name": "stdout",
     "output_type": "stream",
     "text": [
      "Series One:\n",
      "0    2\n",
      "1    3\n",
      "2    3\n",
      "3    1\n",
      "4    1\n",
      "dtype: int32\n",
      "\n",
      "Series Two:\n",
      "0    2\n",
      "1    3\n",
      "2    2\n",
      "3    1\n",
      "4    2\n",
      "dtype: int32\n",
      "\n",
      "Series Three:\n",
      "0    28440\n",
      "1    12707\n",
      "2    15339\n",
      "3    11133\n",
      "4    19546\n",
      "dtype: int32\n"
     ]
    }
   ],
   "source": [
    "print(\"Series One:\")\n",
    "print(Series_One.head())\n",
    "print(\"\\nSeries Two:\")\n",
    "print(Series_Two.head())\n",
    "print(\"\\nSeries Three:\")\n",
    "print(Series_Three.head())"
   ]
  },
  {
   "cell_type": "code",
   "execution_count": 43,
   "id": "32544abc-d5cf-44d5-8097-d6ede72c12ce",
   "metadata": {
    "tags": []
   },
   "outputs": [
    {
     "name": "stdout",
     "output_type": "stream",
     "text": [
      "   Series_One  Series_Two  Series_Three\n",
      "0           2           2         28440\n",
      "1           3           3         12707\n",
      "2           3           2         15339\n",
      "3           1           1         11133\n",
      "4           1           2         19546\n"
     ]
    }
   ],
   "source": [
    "df = pd.DataFrame({'Series_One': Series_One, 'Series_Two': Series_Two, 'Series_Three': Series_Three})\n",
    "print(df.head())"
   ]
  },
  {
   "cell_type": "code",
   "execution_count": 44,
   "id": "202845d8-e8ea-42cb-94c7-1839f4e5310e",
   "metadata": {
    "tags": []
   },
   "outputs": [
    {
     "name": "stdout",
     "output_type": "stream",
     "text": [
      "   Bedrs  Bathrs  Price_Sqr_Meter\n",
      "0      2       2            28440\n",
      "1      3       3            12707\n",
      "2      3       2            15339\n",
      "3      1       1            11133\n",
      "4      1       2            19546\n"
     ]
    }
   ],
   "source": [
    "df.columns = ['Bedrs', 'Bathrs', 'Price_Sqr_Meter']\n",
    "print(df.head())"
   ]
  },
  {
   "cell_type": "code",
   "execution_count": 45,
   "id": "38890eb2-d954-4393-b050-3700dc61f0cb",
   "metadata": {
    "tags": []
   },
   "outputs": [
    {
     "name": "stdout",
     "output_type": "stream",
     "text": [
      "RangeIndex(start=0, stop=300, step=1)\n"
     ]
    }
   ],
   "source": [
    "BigColumn = pd.concat([Series_One, Series_Two, Series_Three], axis=0).to_frame(name='BigColumn')\n",
    "BigColumn.reset_index(drop=True, inplace=True)\n",
    "print(BigColumn.index)"
   ]
  },
  {
   "cell_type": "markdown",
   "id": "18a484f8-dad3-4db8-851f-2882d75a0665",
   "metadata": {},
   "source": [
    "# Answer 4"
   ]
  },
  {
   "cell_type": "code",
   "execution_count": 82,
   "id": "a12663ae-3b7d-4f81-95f0-690584dab187",
   "metadata": {
    "tags": []
   },
   "outputs": [
    {
     "data": {
      "text/html": [
       "<div>\n",
       "<style scoped>\n",
       "    .dataframe tbody tr th:only-of-type {\n",
       "        vertical-align: middle;\n",
       "    }\n",
       "\n",
       "    .dataframe tbody tr th {\n",
       "        vertical-align: top;\n",
       "    }\n",
       "\n",
       "    .dataframe thead th {\n",
       "        text-align: right;\n",
       "    }\n",
       "</style>\n",
       "<table border=\"1\" class=\"dataframe\">\n",
       "  <thead>\n",
       "    <tr style=\"text-align: right;\">\n",
       "      <th></th>\n",
       "      <th>RPT</th>\n",
       "      <th>VAL</th>\n",
       "      <th>ROS</th>\n",
       "      <th>KIL</th>\n",
       "      <th>SHA</th>\n",
       "      <th>BIR</th>\n",
       "      <th>DUB</th>\n",
       "      <th>CLA</th>\n",
       "      <th>MUL</th>\n",
       "      <th>CLO</th>\n",
       "      <th>BEL</th>\n",
       "      <th>MAL</th>\n",
       "    </tr>\n",
       "    <tr>\n",
       "      <th>Date</th>\n",
       "      <th></th>\n",
       "      <th></th>\n",
       "      <th></th>\n",
       "      <th></th>\n",
       "      <th></th>\n",
       "      <th></th>\n",
       "      <th></th>\n",
       "      <th></th>\n",
       "      <th></th>\n",
       "      <th></th>\n",
       "      <th></th>\n",
       "      <th></th>\n",
       "    </tr>\n",
       "  </thead>\n",
       "  <tbody>\n",
       "    <tr>\n",
       "      <th>2061-01-01</th>\n",
       "      <td>15.04</td>\n",
       "      <td>14.96</td>\n",
       "      <td>13.17</td>\n",
       "      <td>9.29</td>\n",
       "      <td>NaN</td>\n",
       "      <td>9.87</td>\n",
       "      <td>13.67</td>\n",
       "      <td>10.25</td>\n",
       "      <td>10.83</td>\n",
       "      <td>12.58</td>\n",
       "      <td>18.50</td>\n",
       "      <td>15.04</td>\n",
       "    </tr>\n",
       "    <tr>\n",
       "      <th>2061-01-02</th>\n",
       "      <td>14.71</td>\n",
       "      <td>NaN</td>\n",
       "      <td>10.83</td>\n",
       "      <td>6.50</td>\n",
       "      <td>12.62</td>\n",
       "      <td>7.67</td>\n",
       "      <td>11.50</td>\n",
       "      <td>10.04</td>\n",
       "      <td>9.79</td>\n",
       "      <td>9.67</td>\n",
       "      <td>17.54</td>\n",
       "      <td>13.83</td>\n",
       "    </tr>\n",
       "    <tr>\n",
       "      <th>2061-01-03</th>\n",
       "      <td>18.50</td>\n",
       "      <td>16.88</td>\n",
       "      <td>12.33</td>\n",
       "      <td>10.13</td>\n",
       "      <td>11.17</td>\n",
       "      <td>6.17</td>\n",
       "      <td>11.25</td>\n",
       "      <td>NaN</td>\n",
       "      <td>8.50</td>\n",
       "      <td>7.67</td>\n",
       "      <td>12.75</td>\n",
       "      <td>12.71</td>\n",
       "    </tr>\n",
       "    <tr>\n",
       "      <th>2061-01-04</th>\n",
       "      <td>10.58</td>\n",
       "      <td>6.63</td>\n",
       "      <td>11.75</td>\n",
       "      <td>4.58</td>\n",
       "      <td>4.54</td>\n",
       "      <td>2.88</td>\n",
       "      <td>8.63</td>\n",
       "      <td>1.79</td>\n",
       "      <td>5.83</td>\n",
       "      <td>5.88</td>\n",
       "      <td>5.46</td>\n",
       "      <td>10.88</td>\n",
       "    </tr>\n",
       "    <tr>\n",
       "      <th>2061-01-05</th>\n",
       "      <td>13.33</td>\n",
       "      <td>13.25</td>\n",
       "      <td>11.42</td>\n",
       "      <td>6.17</td>\n",
       "      <td>10.71</td>\n",
       "      <td>8.21</td>\n",
       "      <td>11.92</td>\n",
       "      <td>6.54</td>\n",
       "      <td>10.92</td>\n",
       "      <td>10.34</td>\n",
       "      <td>12.92</td>\n",
       "      <td>11.83</td>\n",
       "    </tr>\n",
       "  </tbody>\n",
       "</table>\n",
       "</div>"
      ],
      "text/plain": [
       "              RPT    VAL    ROS    KIL    SHA   BIR    DUB    CLA    MUL  \\\n",
       "Date                                                                       \n",
       "2061-01-01  15.04  14.96  13.17   9.29    NaN  9.87  13.67  10.25  10.83   \n",
       "2061-01-02  14.71    NaN  10.83   6.50  12.62  7.67  11.50  10.04   9.79   \n",
       "2061-01-03  18.50  16.88  12.33  10.13  11.17  6.17  11.25    NaN   8.50   \n",
       "2061-01-04  10.58   6.63  11.75   4.58   4.54  2.88   8.63   1.79   5.83   \n",
       "2061-01-05  13.33  13.25  11.42   6.17  10.71  8.21  11.92   6.54  10.92   \n",
       "\n",
       "              CLO    BEL    MAL  \n",
       "Date                             \n",
       "2061-01-01  12.58  18.50  15.04  \n",
       "2061-01-02   9.67  17.54  13.83  \n",
       "2061-01-03   7.67  12.75  12.71  \n",
       "2061-01-04   5.88   5.46  10.88  \n",
       "2061-01-05  10.34  12.92  11.83  "
      ]
     },
     "execution_count": 82,
     "metadata": {},
     "output_type": "execute_result"
    }
   ],
   "source": [
    "Wind_Data = pd.read_csv('wind.txt', delim_whitespace=True)\n",
    "Wind_Data['Date'] = Wind_Data['Yr'].astype(str) + '-' + Wind_Data['Mo'].astype(str) + '-' + Wind_Data['Dy'].astype(str)\n",
    "Wind_Data['Date'] = pd.to_datetime(Wind_Data['Date'], format='%y-%m-%d')\n",
    "Wind_Data.drop(['Yr', 'Mo', 'Dy'], axis=1, inplace=True)\n",
    "Wind_Data.set_index('Date', inplace=True)\n",
    "Wind_Data.head()"
   ]
  },
  {
   "cell_type": "code",
   "execution_count": 83,
   "id": "a9e0bb40-6b6d-4e6b-a430-02404ce2dddc",
   "metadata": {
    "tags": []
   },
   "outputs": [
    {
     "data": {
      "text/html": [
       "<div>\n",
       "<style scoped>\n",
       "    .dataframe tbody tr th:only-of-type {\n",
       "        vertical-align: middle;\n",
       "    }\n",
       "\n",
       "    .dataframe tbody tr th {\n",
       "        vertical-align: top;\n",
       "    }\n",
       "\n",
       "    .dataframe thead th {\n",
       "        text-align: right;\n",
       "    }\n",
       "</style>\n",
       "<table border=\"1\" class=\"dataframe\">\n",
       "  <thead>\n",
       "    <tr style=\"text-align: right;\">\n",
       "      <th></th>\n",
       "      <th>RPT</th>\n",
       "      <th>VAL</th>\n",
       "      <th>ROS</th>\n",
       "      <th>KIL</th>\n",
       "      <th>SHA</th>\n",
       "      <th>BIR</th>\n",
       "      <th>DUB</th>\n",
       "      <th>CLA</th>\n",
       "      <th>MUL</th>\n",
       "      <th>CLO</th>\n",
       "      <th>BEL</th>\n",
       "      <th>MAL</th>\n",
       "    </tr>\n",
       "    <tr>\n",
       "      <th>Date</th>\n",
       "      <th></th>\n",
       "      <th></th>\n",
       "      <th></th>\n",
       "      <th></th>\n",
       "      <th></th>\n",
       "      <th></th>\n",
       "      <th></th>\n",
       "      <th></th>\n",
       "      <th></th>\n",
       "      <th></th>\n",
       "      <th></th>\n",
       "      <th></th>\n",
       "    </tr>\n",
       "  </thead>\n",
       "  <tbody>\n",
       "    <tr>\n",
       "      <th>2023-01-01</th>\n",
       "      <td>15.04</td>\n",
       "      <td>14.96</td>\n",
       "      <td>13.17</td>\n",
       "      <td>9.29</td>\n",
       "      <td>NaN</td>\n",
       "      <td>9.87</td>\n",
       "      <td>13.67</td>\n",
       "      <td>10.25</td>\n",
       "      <td>10.83</td>\n",
       "      <td>12.58</td>\n",
       "      <td>18.50</td>\n",
       "      <td>15.04</td>\n",
       "    </tr>\n",
       "    <tr>\n",
       "      <th>2023-01-02</th>\n",
       "      <td>14.71</td>\n",
       "      <td>NaN</td>\n",
       "      <td>10.83</td>\n",
       "      <td>6.50</td>\n",
       "      <td>12.62</td>\n",
       "      <td>7.67</td>\n",
       "      <td>11.50</td>\n",
       "      <td>10.04</td>\n",
       "      <td>9.79</td>\n",
       "      <td>9.67</td>\n",
       "      <td>17.54</td>\n",
       "      <td>13.83</td>\n",
       "    </tr>\n",
       "    <tr>\n",
       "      <th>2023-01-03</th>\n",
       "      <td>18.50</td>\n",
       "      <td>16.88</td>\n",
       "      <td>12.33</td>\n",
       "      <td>10.13</td>\n",
       "      <td>11.17</td>\n",
       "      <td>6.17</td>\n",
       "      <td>11.25</td>\n",
       "      <td>NaN</td>\n",
       "      <td>8.50</td>\n",
       "      <td>7.67</td>\n",
       "      <td>12.75</td>\n",
       "      <td>12.71</td>\n",
       "    </tr>\n",
       "    <tr>\n",
       "      <th>2023-01-04</th>\n",
       "      <td>10.58</td>\n",
       "      <td>6.63</td>\n",
       "      <td>11.75</td>\n",
       "      <td>4.58</td>\n",
       "      <td>4.54</td>\n",
       "      <td>2.88</td>\n",
       "      <td>8.63</td>\n",
       "      <td>1.79</td>\n",
       "      <td>5.83</td>\n",
       "      <td>5.88</td>\n",
       "      <td>5.46</td>\n",
       "      <td>10.88</td>\n",
       "    </tr>\n",
       "    <tr>\n",
       "      <th>2023-01-05</th>\n",
       "      <td>13.33</td>\n",
       "      <td>13.25</td>\n",
       "      <td>11.42</td>\n",
       "      <td>6.17</td>\n",
       "      <td>10.71</td>\n",
       "      <td>8.21</td>\n",
       "      <td>11.92</td>\n",
       "      <td>6.54</td>\n",
       "      <td>10.92</td>\n",
       "      <td>10.34</td>\n",
       "      <td>12.92</td>\n",
       "      <td>11.83</td>\n",
       "    </tr>\n",
       "  </tbody>\n",
       "</table>\n",
       "</div>"
      ],
      "text/plain": [
       "              RPT    VAL    ROS    KIL    SHA   BIR    DUB    CLA    MUL  \\\n",
       "Date                                                                       \n",
       "2023-01-01  15.04  14.96  13.17   9.29    NaN  9.87  13.67  10.25  10.83   \n",
       "2023-01-02  14.71    NaN  10.83   6.50  12.62  7.67  11.50  10.04   9.79   \n",
       "2023-01-03  18.50  16.88  12.33  10.13  11.17  6.17  11.25    NaN   8.50   \n",
       "2023-01-04  10.58   6.63  11.75   4.58   4.54  2.88   8.63   1.79   5.83   \n",
       "2023-01-05  13.33  13.25  11.42   6.17  10.71  8.21  11.92   6.54  10.92   \n",
       "\n",
       "              CLO    BEL    MAL  \n",
       "Date                             \n",
       "2023-01-01  12.58  18.50  15.04  \n",
       "2023-01-02   9.67  17.54  13.83  \n",
       "2023-01-03   7.67  12.75  12.71  \n",
       "2023-01-04   5.88   5.46  10.88  \n",
       "2023-01-05  10.34  12.92  11.83  "
      ]
     },
     "execution_count": 83,
     "metadata": {},
     "output_type": "execute_result"
    }
   ],
   "source": [
    "Wind_Data.index = Wind_Data.index - pd.DateOffset(years=38)\n",
    "Wind_Data.head()"
   ]
  },
  {
   "cell_type": "code",
   "execution_count": 84,
   "id": "d13ab944-15ba-400b-aecf-de3a7082ba6e",
   "metadata": {
    "tags": []
   },
   "outputs": [
    {
     "data": {
      "text/html": [
       "<div>\n",
       "<style scoped>\n",
       "    .dataframe tbody tr th:only-of-type {\n",
       "        vertical-align: middle;\n",
       "    }\n",
       "\n",
       "    .dataframe tbody tr th {\n",
       "        vertical-align: top;\n",
       "    }\n",
       "\n",
       "    .dataframe thead th {\n",
       "        text-align: right;\n",
       "    }\n",
       "</style>\n",
       "<table border=\"1\" class=\"dataframe\">\n",
       "  <thead>\n",
       "    <tr style=\"text-align: right;\">\n",
       "      <th></th>\n",
       "      <th>RPT</th>\n",
       "      <th>VAL</th>\n",
       "      <th>ROS</th>\n",
       "      <th>KIL</th>\n",
       "      <th>SHA</th>\n",
       "      <th>BIR</th>\n",
       "      <th>DUB</th>\n",
       "      <th>CLA</th>\n",
       "      <th>MUL</th>\n",
       "      <th>CLO</th>\n",
       "      <th>BEL</th>\n",
       "      <th>MAL</th>\n",
       "    </tr>\n",
       "    <tr>\n",
       "      <th>Date</th>\n",
       "      <th></th>\n",
       "      <th></th>\n",
       "      <th></th>\n",
       "      <th></th>\n",
       "      <th></th>\n",
       "      <th></th>\n",
       "      <th></th>\n",
       "      <th></th>\n",
       "      <th></th>\n",
       "      <th></th>\n",
       "      <th></th>\n",
       "      <th></th>\n",
       "    </tr>\n",
       "  </thead>\n",
       "  <tbody>\n",
       "    <tr>\n",
       "      <th>2023-01-01</th>\n",
       "      <td>15.04</td>\n",
       "      <td>14.96</td>\n",
       "      <td>13.17</td>\n",
       "      <td>9.29</td>\n",
       "      <td>NaN</td>\n",
       "      <td>9.87</td>\n",
       "      <td>13.67</td>\n",
       "      <td>10.25</td>\n",
       "      <td>10.83</td>\n",
       "      <td>12.58</td>\n",
       "      <td>18.50</td>\n",
       "      <td>15.04</td>\n",
       "    </tr>\n",
       "    <tr>\n",
       "      <th>2023-01-02</th>\n",
       "      <td>14.71</td>\n",
       "      <td>NaN</td>\n",
       "      <td>10.83</td>\n",
       "      <td>6.50</td>\n",
       "      <td>12.62</td>\n",
       "      <td>7.67</td>\n",
       "      <td>11.50</td>\n",
       "      <td>10.04</td>\n",
       "      <td>9.79</td>\n",
       "      <td>9.67</td>\n",
       "      <td>17.54</td>\n",
       "      <td>13.83</td>\n",
       "    </tr>\n",
       "    <tr>\n",
       "      <th>2023-01-03</th>\n",
       "      <td>18.50</td>\n",
       "      <td>16.88</td>\n",
       "      <td>12.33</td>\n",
       "      <td>10.13</td>\n",
       "      <td>11.17</td>\n",
       "      <td>6.17</td>\n",
       "      <td>11.25</td>\n",
       "      <td>NaN</td>\n",
       "      <td>8.50</td>\n",
       "      <td>7.67</td>\n",
       "      <td>12.75</td>\n",
       "      <td>12.71</td>\n",
       "    </tr>\n",
       "    <tr>\n",
       "      <th>2023-01-04</th>\n",
       "      <td>10.58</td>\n",
       "      <td>6.63</td>\n",
       "      <td>11.75</td>\n",
       "      <td>4.58</td>\n",
       "      <td>4.54</td>\n",
       "      <td>2.88</td>\n",
       "      <td>8.63</td>\n",
       "      <td>1.79</td>\n",
       "      <td>5.83</td>\n",
       "      <td>5.88</td>\n",
       "      <td>5.46</td>\n",
       "      <td>10.88</td>\n",
       "    </tr>\n",
       "    <tr>\n",
       "      <th>2023-01-05</th>\n",
       "      <td>13.33</td>\n",
       "      <td>13.25</td>\n",
       "      <td>11.42</td>\n",
       "      <td>6.17</td>\n",
       "      <td>10.71</td>\n",
       "      <td>8.21</td>\n",
       "      <td>11.92</td>\n",
       "      <td>6.54</td>\n",
       "      <td>10.92</td>\n",
       "      <td>10.34</td>\n",
       "      <td>12.92</td>\n",
       "      <td>11.83</td>\n",
       "    </tr>\n",
       "  </tbody>\n",
       "</table>\n",
       "</div>"
      ],
      "text/plain": [
       "              RPT    VAL    ROS    KIL    SHA   BIR    DUB    CLA    MUL  \\\n",
       "Date                                                                       \n",
       "2023-01-01  15.04  14.96  13.17   9.29    NaN  9.87  13.67  10.25  10.83   \n",
       "2023-01-02  14.71    NaN  10.83   6.50  12.62  7.67  11.50  10.04   9.79   \n",
       "2023-01-03  18.50  16.88  12.33  10.13  11.17  6.17  11.25    NaN   8.50   \n",
       "2023-01-04  10.58   6.63  11.75   4.58   4.54  2.88   8.63   1.79   5.83   \n",
       "2023-01-05  13.33  13.25  11.42   6.17  10.71  8.21  11.92   6.54  10.92   \n",
       "\n",
       "              CLO    BEL    MAL  \n",
       "Date                             \n",
       "2023-01-01  12.58  18.50  15.04  \n",
       "2023-01-02   9.67  17.54  13.83  \n",
       "2023-01-03   7.67  12.75  12.71  \n",
       "2023-01-04   5.88   5.46  10.88  \n",
       "2023-01-05  10.34  12.92  11.83  "
      ]
     },
     "execution_count": 84,
     "metadata": {},
     "output_type": "execute_result"
    }
   ],
   "source": [
    "Wind_Data.index = pd.to_datetime(Wind_Data.index)\n",
    "Wind_Data.head()"
   ]
  },
  {
   "cell_type": "code",
   "execution_count": 86,
   "id": "57dec948-e33b-472f-8e4e-0930518f4d2c",
   "metadata": {
    "tags": []
   },
   "outputs": [
    {
     "name": "stdout",
     "output_type": "stream",
     "text": [
      "RPT    6\n",
      "VAL    3\n",
      "ROS    2\n",
      "KIL    5\n",
      "SHA    2\n",
      "BIR    0\n",
      "DUB    3\n",
      "CLA    2\n",
      "MUL    3\n",
      "CLO    1\n",
      "BEL    0\n",
      "MAL    4\n",
      "dtype: int64\n"
     ]
    }
   ],
   "source": [
    "Missing_Values_each_Location = Wind_Data.isnull().sum()\n",
    "print(Missing_Values_each_Location)"
   ]
  },
  {
   "cell_type": "code",
   "execution_count": 88,
   "id": "581abd68-db1b-4e99-b5ca-3826392c0014",
   "metadata": {
    "tags": []
   },
   "outputs": [
    {
     "data": {
      "text/plain": [
       "78857"
      ]
     },
     "execution_count": 88,
     "metadata": {},
     "output_type": "execute_result"
    }
   ],
   "source": [
    "Non_Missing_Values = Wind_Data.count().sum()\n",
    "Non_Missing_Values"
   ]
  },
  {
   "cell_type": "code",
   "execution_count": 90,
   "id": "8ca2dfa4-997e-40e8-bc60-63c727585acf",
   "metadata": {
    "tags": []
   },
   "outputs": [
    {
     "name": "stdout",
     "output_type": "stream",
     "text": [
      "Mean WindSpeed of all Locations:  10.22788376428218\n"
     ]
    }
   ],
   "source": [
    "Mean_WindSpeed_of_all_Locations = Wind_Data.stack().mean()\n",
    "print(\"Mean WindSpeed of all Locations: \", Mean_WindSpeed_of_all_Locations)"
   ]
  },
  {
   "cell_type": "code",
   "execution_count": 92,
   "id": "6870a76b-a41d-4565-aeed-c42a8cf58c36",
   "metadata": {
    "tags": []
   },
   "outputs": [
    {
     "name": "stdout",
     "output_type": "stream",
     "text": [
      "      Min    Max       Mean        SD\n",
      "RPT  0.67  35.80  12.362987  5.618413\n",
      "VAL  0.21  33.37  10.644314  5.267356\n",
      "ROS  1.50  33.84  11.660526  5.008450\n",
      "KIL  0.00  28.46   6.306468  3.605811\n",
      "SHA  0.13  37.54  10.455834  4.936125\n",
      "BIR  0.00  26.16   7.092254  3.968683\n",
      "DUB  0.00  30.37   9.797343  4.977555\n",
      "CLA  0.00  31.08   8.495053  4.499449\n",
      "MUL  0.00  25.88   8.493590  4.166872\n",
      "CLO  0.04  28.21   8.707332  4.503954\n",
      "BEL  0.13  42.38  13.121007  5.835037\n",
      "MAL  0.67  42.54  15.599079  6.699794\n"
     ]
    }
   ],
   "source": [
    "Loc_Stats = pd.DataFrame({\n",
    "    'Min': Wind_Data.min(),\n",
    "    'Max': Wind_Data.max(),\n",
    "    'Mean': Wind_Data.mean(),\n",
    "    'SD': Wind_Data.std()\n",
    "})\n",
    "\n",
    "print(Loc_Stats)"
   ]
  },
  {
   "cell_type": "code",
   "execution_count": 93,
   "id": "9c11477e-fb4c-415a-9b63-18e774f6ab81",
   "metadata": {},
   "outputs": [
    {
     "name": "stdout",
     "output_type": "stream",
     "text": [
      "             Min    Max       Mean        SD\n",
      "Date                                        \n",
      "2023-01-01  9.29  18.50  13.018182  2.808875\n",
      "2023-01-02  6.50  17.54  11.336364  3.188994\n",
      "2023-01-03  6.17  18.50  11.641818  3.681912\n",
      "2023-01-04  1.79  11.75   6.619167  3.198126\n",
      "2023-01-05  6.17  13.33  10.630000  2.445356\n",
      "...          ...    ...        ...       ...\n",
      "1940-12-27  8.08  40.08  16.708333  7.868076\n",
      "1940-12-28  5.00  41.46  15.150000  9.687857\n",
      "1940-12-29  8.71  29.58  14.890000  5.756836\n",
      "1940-12-30  9.13  28.79  15.367500  5.540437\n",
      "1940-12-31  9.59  27.29  15.402500  5.702483\n",
      "\n",
      "[6574 rows x 4 columns]\n"
     ]
    }
   ],
   "source": [
    "Day_Stats = pd.DataFrame({\n",
    "    'Min': Wind_Data.min(axis=1),\n",
    "    'Max': Wind_Data.max(axis=1),\n",
    "    'Mean': Wind_Data.mean(axis=1),\n",
    "    'SD': Wind_Data.std(axis=1)\n",
    "})\n",
    "print(Day_Stats)"
   ]
  },
  {
   "cell_type": "code",
   "execution_count": 94,
   "id": "69659470-4104-4f6d-b317-7013bf79d2bf",
   "metadata": {
    "tags": []
   },
   "outputs": [
    {
     "name": "stdout",
     "output_type": "stream",
     "text": [
      "RPT    14.847325\n",
      "VAL    12.914560\n",
      "ROS    13.299624\n",
      "KIL     7.199498\n",
      "SHA    11.667734\n",
      "BIR     8.054839\n",
      "DUB    11.819355\n",
      "CLA     9.512047\n",
      "MUL     9.543208\n",
      "CLO    10.053566\n",
      "BEL    14.550520\n",
      "MAL    18.028763\n",
      "dtype: float64\n"
     ]
    }
   ],
   "source": [
    "January_WindSpeed_Avg = Wind_Data[Wind_Data.index.month == 1].mean()\n",
    "print(January_WindSpeed_Avg)"
   ]
  },
  {
   "cell_type": "code",
   "execution_count": 96,
   "id": "214fe82b-28cc-4f53-ac4b-9a5a3401de36",
   "metadata": {
    "tags": []
   },
   "outputs": [
    {
     "name": "stdout",
     "output_type": "stream",
     "text": [
      "                  RPT        VAL        ROS       KIL        SHA       BIR  \\\n",
      "Date                                                                         \n",
      "1931-12-31  11.166356   9.723699  10.902000  5.767973   9.873918  6.189973   \n",
      "1932-12-31  12.600329  10.726932  11.730247  6.217178  10.567370  7.609452   \n",
      "1933-12-31  11.273123   9.095178  11.088329  5.241507   9.440329  6.097151   \n",
      "1934-12-31  12.463962  10.561311  12.058333  5.929699   9.430410  6.358825   \n",
      "1935-12-31  11.828466  10.680493  10.680493  5.547863   9.640877  6.548740   \n",
      "...               ...        ...        ...       ...        ...       ...   \n",
      "2026-12-31  12.363661  10.920164  12.104372  6.787787  11.454481  7.570874   \n",
      "2027-12-31  12.451370  11.075534  11.848767  6.858466  11.024795  7.478110   \n",
      "2028-12-31  13.461973  11.557205  12.020630  7.345726  11.805041  7.793671   \n",
      "2029-12-31  12.737151  10.990986  11.739397  7.143425  11.630740  7.368164   \n",
      "2030-12-31  11.835628  10.468197  11.409754  6.477678  10.760765  6.067322   \n",
      "\n",
      "                  DUB       CLA       MUL        CLO        BEL        MAL  \n",
      "Date                                                                        \n",
      "1931-12-31   8.564493  7.711397  7.924521   7.754384  12.621233  15.762904  \n",
      "1932-12-31   9.609890  8.334630  9.297616   8.289808  13.183644  16.456027  \n",
      "1933-12-31   8.385890  6.757315  7.915370   7.229753  12.208932  15.025233  \n",
      "1934-12-31   9.704508  7.680792  8.357295   7.515273  12.727377  15.028716  \n",
      "1935-12-31   8.482110  7.614274  8.245534   7.812411  12.169699  15.441096  \n",
      "...               ...       ...       ...        ...        ...        ...  \n",
      "2026-12-31  10.259153  9.467350  7.789016  10.207951  13.740546  14.910301  \n",
      "2027-12-31  10.618712  8.879918  7.907425   9.918082  12.964247  15.591644  \n",
      "2028-12-31  10.579808  8.835096  8.514438   9.768959  14.265836  16.307260  \n",
      "2029-12-31  10.652027  9.325616  8.645014   9.547425  14.774548  17.135945  \n",
      "2030-12-31   8.859180  8.255519  7.224945   7.832978  12.808634  15.017486  \n",
      "\n",
      "[100 rows x 12 columns]\n"
     ]
    }
   ],
   "source": [
    "Yearly_Freq_Each_Location = Wind_Data.resample('Y').mean()\n",
    "print(Yearly_Freq_Each_Location)"
   ]
  },
  {
   "cell_type": "code",
   "execution_count": 97,
   "id": "19bfcb19-1449-4cb1-8241-0b2d19d0eadb",
   "metadata": {
    "tags": []
   },
   "outputs": [
    {
     "name": "stdout",
     "output_type": "stream",
     "text": [
      "                  RPT        VAL        ROS       KIL        SHA       BIR  \\\n",
      "Date                                                                         \n",
      "1931-01-31  12.824839  12.113871  11.403871  6.708710  10.557097  5.926452   \n",
      "1931-02-28  13.504643  10.426786  14.240714  7.326786  11.314643  5.482857   \n",
      "1931-03-31  10.398710   8.533226  12.277419  6.125161   9.618065  4.942581   \n",
      "1931-04-30  12.591333   9.769333  10.828000  6.937333  11.304667  5.578000   \n",
      "1931-05-31   9.419032   7.941935   9.298387  5.137097   8.618710  5.391935   \n",
      "...               ...        ...        ...       ...        ...       ...   \n",
      "2030-08-31   9.231935   6.870323  13.075161  6.074839   8.954516  4.835484   \n",
      "2030-09-30  12.137000  11.160667  12.008000  6.886000  11.718667  6.497333   \n",
      "2030-10-31  12.521290  11.755484  11.235161  6.433871  11.381935  6.554516   \n",
      "2030-11-30  14.604000  14.257333  14.422333  6.828000  13.046333  8.008667   \n",
      "2030-12-31  13.090645  11.132903  13.237742  6.070000   9.675161  5.445484   \n",
      "\n",
      "                  DUB        CLA       MUL        CLO        BEL        MAL  \n",
      "Date                                                                         \n",
      "1931-01-31   9.882903   8.375161  8.378065   9.515484  13.410000  16.957742  \n",
      "1931-02-28  10.983929   8.747143  8.994286   9.081071  14.334643  19.786786  \n",
      "1931-03-31   9.193226   8.503226  8.376129   7.800968  10.394194  16.420000  \n",
      "1931-04-30   9.383333   8.141667  9.201333   8.370333  11.905667  14.124000  \n",
      "1931-05-31   6.309032   5.752581  5.907419   6.317419   9.332258  11.794839  \n",
      "...               ...        ...       ...        ...        ...        ...  \n",
      "2030-08-31   6.752903   6.429677  5.882258   4.733548  10.793226   9.819032  \n",
      "2030-09-30   9.476000   8.504000  7.781333   7.584000  12.900333  13.583667  \n",
      "2030-10-31   8.357742   9.450645  8.102258   8.370968  14.871935  16.388065  \n",
      "2030-11-30  10.813000  11.214333  9.175333  10.901667  15.818667  20.313000  \n",
      "2030-12-31   9.338710   7.143548  7.893226   9.208065  12.050323  18.806452  \n",
      "\n",
      "[1200 rows x 12 columns]\n"
     ]
    }
   ],
   "source": [
    "Monthly_Frequency_Each_Location = Wind_Data.resample('M').mean()\n",
    "print(Monthly_Frequency_Each_Location)"
   ]
  },
  {
   "cell_type": "code",
   "execution_count": 98,
   "id": "766e8333-bdbd-466c-810b-b7abbca14f52",
   "metadata": {
    "tags": []
   },
   "outputs": [
    {
     "name": "stdout",
     "output_type": "stream",
     "text": [
      "                  RPT        VAL        ROS       KIL        SHA       BIR  \\\n",
      "Date                                                                         \n",
      "1931-01-04   4.730000   2.852500   6.520000  2.565000   5.417500  2.385000   \n",
      "1931-01-11  14.821429  12.701429  14.190000  6.530000  11.272857  6.227143   \n",
      "1931-01-18  15.047143  15.560000  11.861429  8.155714  12.785714  7.315714   \n",
      "1931-01-25  12.874286  13.690000  11.594286  6.274286   9.541429  6.142857   \n",
      "1931-02-01  14.004286  12.892857  10.952857  8.790000  12.635714  6.285714   \n",
      "...               ...        ...        ...       ...        ...       ...   \n",
      "2030-12-08   9.828571  10.227143  12.945714  5.731429   8.708571  4.887143   \n",
      "2030-12-15  11.112857  10.785714  11.357143  4.811429   8.432857  4.868571   \n",
      "2030-12-22  19.124286  15.474286  16.218571  9.285714  13.984286  8.824286   \n",
      "2030-12-29  12.567143   9.417143  13.298571  5.190000   8.537143  4.005714   \n",
      "2031-01-05  11.045000   4.605000   9.815000  3.375000   4.835000  1.375000   \n",
      "\n",
      "                  DUB        CLA        MUL        CLO        BEL        MAL  \n",
      "Date                                                                          \n",
      "1931-01-04   8.865000   4.142500   6.007500   7.542500  11.345000  15.855000  \n",
      "1931-01-11  10.217143   8.358571   8.250000   9.524286  12.011429  18.872857  \n",
      "1931-01-18  10.265714   9.731429   9.625714   8.855714  13.981429  15.940000  \n",
      "1931-01-25   7.978571   9.042857   6.947143   9.528571  14.844286  15.362857  \n",
      "1931-02-01  12.424286   9.048571  10.728571  11.635714  15.187143  19.350000  \n",
      "...               ...        ...        ...        ...        ...        ...  \n",
      "2030-12-08   7.548571   6.500000   6.267143   8.131429  10.361429  14.852857  \n",
      "2030-12-15   7.345714   6.398571   6.765714   8.810000  11.195714  16.560000  \n",
      "2030-12-22  13.022857  10.577143  11.107143  12.402857  16.054286  20.690000  \n",
      "2030-12-29   9.607143   5.678571   7.851429   7.885714  11.920000  23.410000  \n",
      "2031-01-05   7.205000   3.330000   5.540000   7.085000   6.940000  15.730000  \n",
      "\n",
      "[5219 rows x 12 columns]\n"
     ]
    }
   ],
   "source": [
    "Weekly_Frequency_Each_Location = Wind_Data.resample('W').mean()\n",
    "print(Weekly_Frequency_Each_Location)"
   ]
  },
  {
   "cell_type": "code",
   "execution_count": 99,
   "id": "a688e938-5b60-4864-b125-5c036e483cc6",
   "metadata": {
    "tags": []
   },
   "outputs": [
    {
     "name": "stdout",
     "output_type": "stream",
     "text": [
      "              RPT                               VAL                    \\\n",
      "              min    max       mean       std   min    max       mean   \n",
      "Date                                                                    \n",
      "1931-01-05   2.62  10.50   5.884000  2.956895  0.54   8.38   3.958000   \n",
      "1931-01-12   9.33  22.34  14.708571  5.473684  3.29  18.50  12.521429   \n",
      "1931-01-19   4.50  25.08  15.030000  6.915213  1.50  25.17  16.452857   \n",
      "1931-01-26   4.00  20.54  14.438571  5.990624  5.13  20.25  14.267143   \n",
      "1931-02-02   5.21  18.58  13.510000  5.100791  3.96  19.79  11.917143   \n",
      "1931-02-09   5.17  21.50  12.698571  6.207413  1.96  19.00   9.387143   \n",
      "1931-02-16  12.71  24.75  15.875714  4.448055  5.00  15.34   9.644286   \n",
      "1931-02-23   8.04  27.79  15.790000  6.449098  4.25  23.58  14.047143   \n",
      "1931-03-02   0.67  10.75   7.142857  3.720774  3.58  10.83   6.320000   \n",
      "1931-03-09   2.29  16.46   8.975714  5.089679  3.04  10.41   6.747143   \n",
      "1931-03-16   6.00  21.12  11.850000  5.362879  2.92  17.62   9.612857   \n",
      "1931-03-23   2.92  21.46  11.500000  6.539829  4.50  16.38  10.791429   \n",
      "1931-03-30   3.58  12.87   7.951429  3.137406  2.83  13.50   6.257143   \n",
      "1931-04-06   4.17  22.34  11.524286  6.956642  2.88  16.46   6.422857   \n",
      "1931-04-13   6.50  24.75  14.590000  7.115326  1.63  20.75  10.910000   \n",
      "1931-04-20   7.41  18.16  12.465714  4.599206  5.83  15.59  10.924286   \n",
      "1931-04-27   9.79  21.00  14.670000  4.417616  8.21  16.71  12.970000   \n",
      "1931-05-04   4.58  16.75   8.450000  4.671274  2.96  13.62   5.535714   \n",
      "1931-05-11   4.08  14.29   8.137143  4.009047  4.46  13.88   8.422857   \n",
      "1931-05-18   6.34  15.09  10.175714  3.310674  5.71  12.75   9.704286   \n",
      "1931-05-25   3.54  15.79   9.642857  4.372938  5.13  10.96   7.375714   \n",
      "1931-06-01   4.46  13.70   9.848571  3.641568  5.13  12.96   7.858571   \n",
      "1931-06-08   2.17  14.17   7.095714  4.717736  3.46  12.71   5.811429   \n",
      "1931-06-15   4.42  15.34   9.412857  3.957932  2.88  15.71   6.725714   \n",
      "1931-06-22   9.17  21.96  14.685714  4.425708  8.50  16.83  13.945714   \n",
      "1931-06-29   3.46  12.62   7.475714  3.175221  4.38  13.79   7.528571   \n",
      "1931-07-06   5.54  13.25   8.160000  2.739428  4.42   9.83   7.441429   \n",
      "1931-07-13   4.04  17.88   9.144286  4.615575  3.46  10.25   5.755714   \n",
      "1931-07-20   3.88  18.84  10.657143  4.523884  5.83  18.54  10.520000   \n",
      "1931-07-27   4.50  12.83   8.280000  3.304653  5.25  15.67   9.445714   \n",
      "1931-08-03   9.96  14.37  11.724286  1.836327  6.50  17.79  11.374286   \n",
      "1931-08-10   4.54  14.37  10.171429  3.207748  8.96  17.62  13.512857   \n",
      "1931-08-17   3.67  14.92   8.507143  3.774201  2.79  10.13   5.924286   \n",
      "1931-08-24   8.38  16.79  13.620000  3.626950  8.46  14.92  10.655714   \n",
      "1931-08-31   4.17  20.08  13.922857  6.671601  4.88  12.83   8.678571   \n",
      "1931-09-07   1.50   8.04   4.648571  2.170357  1.00   8.08   3.571429   \n",
      "1931-09-14   4.25  16.50   9.082857  4.516096  3.04  15.63   6.851429   \n",
      "1931-09-21   3.83  18.54   9.147143  4.734447  0.87  16.62   7.114286   \n",
      "1931-09-28   7.41  16.17  11.907143  3.515521  6.29  15.75  11.612857   \n",
      "1931-10-05   4.00  15.09   9.511429  3.661072  2.37  15.16   8.488571   \n",
      "1931-10-12   4.67  20.08  12.654286  5.319360  3.17  21.59  13.798571   \n",
      "1931-10-19   5.37  24.46  14.501429  6.239731  1.21  23.58  12.707143   \n",
      "1931-10-26   2.42  13.29   7.321429  4.173166  1.67  18.00   7.917143   \n",
      "1931-11-02   4.29  24.04   9.921429  6.591255  3.88  24.87   9.597143   \n",
      "1931-11-09   5.50  22.63  15.610000  5.885131  6.17  27.33  14.947143   \n",
      "1931-11-16   4.79  19.87  10.452857  4.712203  3.29  20.71   9.434286   \n",
      "1931-11-23   3.46  20.04  10.791429  4.928027  2.75  19.46  11.584286   \n",
      "1931-11-30   6.54  15.21  11.601429  3.358434  3.54  11.63   8.154286   \n",
      "1931-12-07   9.46  23.04  14.934286  5.201519  7.87  16.96  13.237143   \n",
      "1931-12-14   3.46  22.67  11.642857  7.012902  3.37  22.54  10.227143   \n",
      "1931-12-21   6.17  24.41  12.938571  6.204497  4.46  20.41  12.470000   \n",
      "1931-12-28   6.71  18.34  12.495714  4.208618  5.75  18.00  10.922857   \n",
      "\n",
      "                        ROS         ...        CLO              BEL         \\\n",
      "                 std    min    max  ...       mean       std    min    max   \n",
      "Date                                ...                                      \n",
      "1931-01-05  3.451734   5.41   7.71  ...   7.160000  2.353933   8.17  16.08   \n",
      "1931-01-12  5.728247   8.46  20.91  ...  10.124286  3.337603   6.04  18.84   \n",
      "1931-01-19  7.936619   4.63  17.79  ...   8.385714  4.497150   2.62  19.46   \n",
      "1931-01-26  5.881340   4.79  19.21  ...  10.720000  5.260133   3.46  22.04   \n",
      "1931-02-02  5.593549   3.83  15.34  ...  10.771429  4.620326   4.83  26.30   \n",
      "1931-02-09  7.217457   5.25  19.92  ...   8.560000  3.519029   9.33  24.62   \n",
      "1931-02-16  3.875160   6.79  17.33  ...   7.862857  5.663267   5.88  24.25   \n",
      "1931-02-23  5.636150   6.83  32.71  ...  12.328571  5.815214   6.67  23.67   \n",
      "1931-03-02  2.567917   4.17  17.62  ...   6.227143  1.901216   2.54  11.12   \n",
      "1931-03-09  2.808545   4.46  22.25  ...   5.321429  2.285049   3.92  13.33   \n",
      "1931-03-16  5.126066   4.00  18.66  ...  10.142857  3.845620   8.08  18.05   \n",
      "1931-03-23  4.914321   5.79  18.58  ...   9.921429  3.972684   7.41  17.58   \n",
      "1931-03-30  4.114368   5.50  15.29  ...   5.721429  3.623288   4.29  13.59   \n",
      "1931-04-06  5.029499   3.04  18.38  ...   6.358571  4.425398   5.63  12.29   \n",
      "1931-04-13  7.376076   6.38  18.12  ...   9.887143  2.628160   6.71  22.50   \n",
      "1931-04-20  3.598027   5.83  11.54  ...   8.650000  3.217530   5.50  15.37   \n",
      "1931-04-27  2.550392   7.17  16.50  ...  10.060000  3.291367  10.25  19.62   \n",
      "1931-05-04  3.750417   4.29  16.75  ...   6.012857  2.206451   3.29  12.50   \n",
      "1931-05-11  3.342079   2.29  14.96  ...   5.064286  2.154165   4.88  15.92   \n",
      "1931-05-18  2.594461   6.83  11.67  ...   7.198571  2.625042   7.75  16.08   \n",
      "1931-05-25  2.023980   5.50  15.96  ...   6.530000  4.203399   5.09  12.75   \n",
      "1931-06-01  2.981613   6.54  12.71  ...   6.517143  2.620291   6.13  13.62   \n",
      "1931-06-08  3.312599   2.75  12.00  ...   4.142857  2.386027   5.29  14.83   \n",
      "1931-06-15  4.358290   4.12  16.58  ...   4.595714  3.434690   3.83  11.96   \n",
      "1931-06-22  2.922139   8.87  13.37  ...   9.065714  2.380755   8.29  16.25   \n",
      "1931-06-29  3.034229   5.37  13.04  ...   6.348571  3.456566   8.17  19.58   \n",
      "1931-07-06  2.103009   4.63  12.33  ...   8.307143  2.290333   9.46  19.08   \n",
      "1931-07-13  2.202225   3.58  12.67  ...   7.721429  2.368357   8.75  16.88   \n",
      "1931-07-20  4.172413   3.13  16.29  ...   8.142857  3.701138   5.88  24.41   \n",
      "1931-07-27  3.928082   6.46  13.21  ...   7.020000  3.909390   8.42  22.37   \n",
      "1931-08-03  4.408888   4.29  11.50  ...   6.970000  2.978864   6.50  21.67   \n",
      "1931-08-10  3.572542   5.17  13.54  ...   7.678571  4.461279   9.67  22.00   \n",
      "1931-08-17  2.876977   2.92  15.59  ...   4.334286  3.573942   1.58  22.13   \n",
      "1931-08-24  2.109383   8.46  11.29  ...  10.370000  1.988861   9.17  19.75   \n",
      "1931-08-31  2.592164   5.66  13.50  ...   9.590000  3.397293   4.54  15.00   \n",
      "1931-09-07  2.371114   4.92  15.21  ...   2.967143  1.721663   2.96  11.79   \n",
      "1931-09-14  4.291819   4.54  14.83  ...   5.255714  3.648995   4.79  18.12   \n",
      "1931-09-21  5.123618  10.00  17.54  ...   5.755714  4.118320   5.00  22.04   \n",
      "1931-09-28  4.112873   6.83  14.96  ...  10.584286  3.727832  13.88  24.75   \n",
      "1931-10-05  4.135664   6.21  13.42  ...   8.098571  2.021158  11.08  21.42   \n",
      "1931-10-12  6.388861   5.96  18.50  ...   8.857143  4.239067   4.71  21.75   \n",
      "1931-10-19  8.121489   7.00  20.62  ...  11.030000  6.637615   4.04  31.88   \n",
      "1931-10-26  5.991924   2.17  13.08  ...   6.660000  4.117054   2.96  28.62   \n",
      "1931-11-02  6.974974   5.00  21.37  ...  10.464286  4.126560  10.79  23.42   \n",
      "1931-11-09  7.439782   6.38  17.62  ...   7.992857  3.161870   6.54  23.87   \n",
      "1931-11-16  6.362439   2.21  20.83  ...   5.374286  3.718377   5.83  21.25   \n",
      "1931-11-23  5.483104   5.75  28.21  ...   9.077143  3.176265  11.50  22.54   \n",
      "1931-11-30  2.948553   6.67  18.08  ...   6.780000  2.096203   8.75  18.96   \n",
      "1931-12-07  2.863231   7.04  14.17  ...   8.188571  2.609862  11.46  17.96   \n",
      "1931-12-14  6.932279   4.38  16.25  ...   7.054286  4.857018   7.83  19.50   \n",
      "1931-12-21  6.021954  10.00  21.37  ...   8.648571  3.289207   9.54  20.50   \n",
      "1931-12-28  4.736763   5.29  15.75  ...   5.761429  3.080587   5.13  16.62   \n",
      "\n",
      "                                   MAL                               \n",
      "                 mean       std    min    max       mean        std  \n",
      "Date                                                                 \n",
      "1931-01-05  11.510000  3.088454  13.29  17.25  16.108000   1.630620  \n",
      "1931-01-12  12.130000  4.967035  10.04  27.71  20.385714   7.104165  \n",
      "1931-01-19  13.624286  6.208156   7.62  24.25  14.248571   6.935848  \n",
      "1931-01-26  15.475714  6.269439   7.46  19.62  15.827143   4.539177  \n",
      "1931-02-02  15.757143  7.294486   9.13  31.54  20.284286   8.084221  \n",
      "1931-02-09  16.991429  6.145994  13.08  27.00  19.398571   5.187522  \n",
      "1931-02-16  12.774286  7.002173  10.37  25.17  16.404286   5.104964  \n",
      "1931-02-23  16.781429  6.894044  12.96  38.20  25.631429  10.009425  \n",
      "1931-03-02   6.477143  2.954628   4.75  22.75  12.560000   6.216071  \n",
      "1931-03-09   7.684286  3.387358   4.17  17.71  10.001429   5.382569  \n",
      "1931-03-16  13.881429  3.494965  16.33  33.66  24.832857   6.337341  \n",
      "1931-03-23  12.880000  3.734635   8.33  37.99  22.078571   9.734012  \n",
      "1931-03-30   8.388571  3.692603   4.96  19.25  11.430000   5.128661  \n",
      "1931-04-06   9.411429  2.473758   4.63  16.62  11.588571   4.507865  \n",
      "1931-04-13  14.671429  6.689147  10.17  27.67  16.815714   6.121146  \n",
      "1931-04-20  10.310000  3.898145   9.38  19.00  15.340000   3.286706  \n",
      "1931-04-27  14.511429  3.413724   6.83  32.05  14.761429   8.356204  \n",
      "1931-05-04   7.048571  3.056367   7.38  27.88  14.595714   7.268321  \n",
      "1931-05-11  10.150000  4.266357   4.08  16.04   9.154286   4.544967  \n",
      "1931-05-18  11.272857  2.771520   5.71  19.58  10.951429   4.919622  \n",
      "1931-05-25   8.280000  2.983130   5.41  21.79  11.825714   5.957060  \n",
      "1931-06-01   9.262857  2.900154   8.79  13.54  11.362857   1.745363  \n",
      "1931-06-08  10.212857  3.428837   2.21  11.63   8.025714   3.423531  \n",
      "1931-06-15   7.220000  2.675568   3.96  20.67   8.781429   6.213798  \n",
      "1931-06-22  12.530000  2.933047  11.63  18.05  14.132857   2.437763  \n",
      "1931-06-29  13.740000  4.630932   9.59  21.54  14.185714   4.370667  \n",
      "1931-07-06  15.154286  2.933643  10.92  26.08  16.695714   5.060441  \n",
      "1931-07-13  12.757143  2.984732  11.12  24.54  17.202857   4.784951  \n",
      "1931-07-20  14.500000  5.962329   7.62  21.62  15.615714   5.592509  \n",
      "1931-07-27  14.278571  5.217488   5.58  19.83  13.075714   5.350208  \n",
      "1931-08-03  11.891429  5.290833   5.66  17.67  11.695714   3.707447  \n",
      "1931-08-10  14.851429  4.423586   3.63  19.50  13.522857   5.574997  \n",
      "1931-08-17   9.150000  7.696605   2.50  21.71   9.941429   6.262394  \n",
      "1931-08-24  14.737143  3.753268  12.46  22.37  17.660000   3.380883  \n",
      "1931-08-31  10.045714  4.352501   8.42  20.75  15.090000   5.144142  \n",
      "1931-09-07   6.947143  2.787602   6.00  11.38   8.904286   2.276407  \n",
      "1931-09-14   9.630000  5.036037   9.62  20.71  13.231429   3.567527  \n",
      "1931-09-21  10.460000  5.809575   7.00  22.88  13.334286   5.868000  \n",
      "1931-09-28  19.171429  4.614956  17.33  33.63  22.572857   5.428744  \n",
      "1931-10-05  15.441429  3.577208  13.25  24.41  17.607143   4.506335  \n",
      "1931-10-12  14.172857  7.181158   5.88  23.67  14.340000   7.229071  \n",
      "1931-10-19  18.214286  9.876858   6.08  29.38  19.285714   8.298327  \n",
      "1931-10-26  13.842857  8.986352   6.17  27.37  16.892857   8.711019  \n",
      "1931-11-02  16.322857  4.490404  12.92  28.25  21.618571   4.741847  \n",
      "1931-11-09  14.911429  6.292711  13.88  29.46  19.881429   5.420343  \n",
      "1931-11-16  11.708571  6.657879   7.33  22.92  15.755714   5.873888  \n",
      "1931-11-23  16.732857  3.926872  15.34  34.08  23.334286   6.525636  \n",
      "1931-11-30  13.660000  3.589977  13.54  29.33  20.137143   5.538961  \n",
      "1931-12-07  14.270000  2.497345  16.17  21.59  19.334286   1.910993  \n",
      "1931-12-14  13.895714  4.173731   8.75  22.29  15.475714   4.324033  \n",
      "1931-12-21  14.021429  3.784017  15.16  26.83  19.374286   4.098971  \n",
      "1931-12-28  12.447143  4.693846   9.50  21.21  14.191429   4.220847  \n",
      "\n",
      "[52 rows x 48 columns]\n"
     ]
    }
   ],
   "source": [
    "Weekly_Record = Wind_Data.resample('W-Mon').agg(['min', 'max', 'mean', 'std']).head(52)\n",
    "print(Weekly_Record)"
   ]
  },
  {
   "cell_type": "markdown",
   "id": "5e4be907-a91a-41cb-83a7-227d2b9ac0da",
   "metadata": {},
   "source": [
    "# Answer 5"
   ]
  },
  {
   "cell_type": "code",
   "execution_count": 100,
   "id": "c1af480d-7f7e-4979-8a84-88710ec34a5e",
   "metadata": {
    "tags": []
   },
   "outputs": [
    {
     "data": {
      "text/html": [
       "<div>\n",
       "<style scoped>\n",
       "    .dataframe tbody tr th:only-of-type {\n",
       "        vertical-align: middle;\n",
       "    }\n",
       "\n",
       "    .dataframe tbody tr th {\n",
       "        vertical-align: top;\n",
       "    }\n",
       "\n",
       "    .dataframe thead th {\n",
       "        text-align: right;\n",
       "    }\n",
       "</style>\n",
       "<table border=\"1\" class=\"dataframe\">\n",
       "  <thead>\n",
       "    <tr style=\"text-align: right;\">\n",
       "      <th></th>\n",
       "      <th>order_id</th>\n",
       "      <th>quantity</th>\n",
       "      <th>item_name</th>\n",
       "      <th>choice_description</th>\n",
       "      <th>item_price</th>\n",
       "    </tr>\n",
       "  </thead>\n",
       "  <tbody>\n",
       "    <tr>\n",
       "      <th>0</th>\n",
       "      <td>1</td>\n",
       "      <td>1</td>\n",
       "      <td>Chips and Fresh Tomato Salsa</td>\n",
       "      <td>NaN</td>\n",
       "      <td>$2.39</td>\n",
       "    </tr>\n",
       "    <tr>\n",
       "      <th>1</th>\n",
       "      <td>1</td>\n",
       "      <td>1</td>\n",
       "      <td>Izze</td>\n",
       "      <td>[Clementine]</td>\n",
       "      <td>$3.39</td>\n",
       "    </tr>\n",
       "    <tr>\n",
       "      <th>2</th>\n",
       "      <td>1</td>\n",
       "      <td>1</td>\n",
       "      <td>Nantucket Nectar</td>\n",
       "      <td>[Apple]</td>\n",
       "      <td>$3.39</td>\n",
       "    </tr>\n",
       "    <tr>\n",
       "      <th>3</th>\n",
       "      <td>1</td>\n",
       "      <td>1</td>\n",
       "      <td>Chips and Tomatillo-Green Chili Salsa</td>\n",
       "      <td>NaN</td>\n",
       "      <td>$2.39</td>\n",
       "    </tr>\n",
       "    <tr>\n",
       "      <th>4</th>\n",
       "      <td>2</td>\n",
       "      <td>2</td>\n",
       "      <td>Chicken Bowl</td>\n",
       "      <td>[Tomatillo-Red Chili Salsa (Hot), [Black Beans...</td>\n",
       "      <td>$16.98</td>\n",
       "    </tr>\n",
       "  </tbody>\n",
       "</table>\n",
       "</div>"
      ],
      "text/plain": [
       "   order_id  quantity                              item_name  \\\n",
       "0         1         1           Chips and Fresh Tomato Salsa   \n",
       "1         1         1                                   Izze   \n",
       "2         1         1                       Nantucket Nectar   \n",
       "3         1         1  Chips and Tomatillo-Green Chili Salsa   \n",
       "4         2         2                           Chicken Bowl   \n",
       "\n",
       "                                  choice_description item_price  \n",
       "0                                                NaN     $2.39   \n",
       "1                                       [Clementine]     $3.39   \n",
       "2                                            [Apple]     $3.39   \n",
       "3                                                NaN     $2.39   \n",
       "4  [Tomatillo-Red Chili Salsa (Hot), [Black Beans...    $16.98   "
      ]
     },
     "execution_count": 100,
     "metadata": {},
     "output_type": "execute_result"
    }
   ],
   "source": [
    "url = 'https://raw.githubusercontent.com/justmarkham/DAT8/master/data/chipotle.tsv'\n",
    "\n",
    "Chipo = pd.read_csv(url, sep='\\t')\n",
    "Chipo.head()"
   ]
  },
  {
   "cell_type": "code",
   "execution_count": 101,
   "id": "f216746a-8d40-41b8-85ca-e791b2914086",
   "metadata": {
    "tags": []
   },
   "outputs": [
    {
     "data": {
      "text/html": [
       "<div>\n",
       "<style scoped>\n",
       "    .dataframe tbody tr th:only-of-type {\n",
       "        vertical-align: middle;\n",
       "    }\n",
       "\n",
       "    .dataframe tbody tr th {\n",
       "        vertical-align: top;\n",
       "    }\n",
       "\n",
       "    .dataframe thead th {\n",
       "        text-align: right;\n",
       "    }\n",
       "</style>\n",
       "<table border=\"1\" class=\"dataframe\">\n",
       "  <thead>\n",
       "    <tr style=\"text-align: right;\">\n",
       "      <th></th>\n",
       "      <th>order_id</th>\n",
       "      <th>quantity</th>\n",
       "      <th>item_name</th>\n",
       "      <th>choice_description</th>\n",
       "      <th>item_price</th>\n",
       "    </tr>\n",
       "  </thead>\n",
       "  <tbody>\n",
       "    <tr>\n",
       "      <th>0</th>\n",
       "      <td>1</td>\n",
       "      <td>1</td>\n",
       "      <td>Chips and Fresh Tomato Salsa</td>\n",
       "      <td>NaN</td>\n",
       "      <td>$2.39</td>\n",
       "    </tr>\n",
       "    <tr>\n",
       "      <th>1</th>\n",
       "      <td>1</td>\n",
       "      <td>1</td>\n",
       "      <td>Izze</td>\n",
       "      <td>[Clementine]</td>\n",
       "      <td>$3.39</td>\n",
       "    </tr>\n",
       "    <tr>\n",
       "      <th>2</th>\n",
       "      <td>1</td>\n",
       "      <td>1</td>\n",
       "      <td>Nantucket Nectar</td>\n",
       "      <td>[Apple]</td>\n",
       "      <td>$3.39</td>\n",
       "    </tr>\n",
       "    <tr>\n",
       "      <th>3</th>\n",
       "      <td>1</td>\n",
       "      <td>1</td>\n",
       "      <td>Chips and Tomatillo-Green Chili Salsa</td>\n",
       "      <td>NaN</td>\n",
       "      <td>$2.39</td>\n",
       "    </tr>\n",
       "    <tr>\n",
       "      <th>4</th>\n",
       "      <td>2</td>\n",
       "      <td>2</td>\n",
       "      <td>Chicken Bowl</td>\n",
       "      <td>[Tomatillo-Red Chili Salsa (Hot), [Black Beans...</td>\n",
       "      <td>$16.98</td>\n",
       "    </tr>\n",
       "    <tr>\n",
       "      <th>5</th>\n",
       "      <td>3</td>\n",
       "      <td>1</td>\n",
       "      <td>Chicken Bowl</td>\n",
       "      <td>[Fresh Tomato Salsa (Mild), [Rice, Cheese, Sou...</td>\n",
       "      <td>$10.98</td>\n",
       "    </tr>\n",
       "    <tr>\n",
       "      <th>6</th>\n",
       "      <td>3</td>\n",
       "      <td>1</td>\n",
       "      <td>Side of Chips</td>\n",
       "      <td>NaN</td>\n",
       "      <td>$1.69</td>\n",
       "    </tr>\n",
       "    <tr>\n",
       "      <th>7</th>\n",
       "      <td>4</td>\n",
       "      <td>1</td>\n",
       "      <td>Steak Burrito</td>\n",
       "      <td>[Tomatillo Red Chili Salsa, [Fajita Vegetables...</td>\n",
       "      <td>$11.75</td>\n",
       "    </tr>\n",
       "    <tr>\n",
       "      <th>8</th>\n",
       "      <td>4</td>\n",
       "      <td>1</td>\n",
       "      <td>Steak Soft Tacos</td>\n",
       "      <td>[Tomatillo Green Chili Salsa, [Pinto Beans, Ch...</td>\n",
       "      <td>$9.25</td>\n",
       "    </tr>\n",
       "    <tr>\n",
       "      <th>9</th>\n",
       "      <td>5</td>\n",
       "      <td>1</td>\n",
       "      <td>Steak Burrito</td>\n",
       "      <td>[Fresh Tomato Salsa, [Rice, Black Beans, Pinto...</td>\n",
       "      <td>$9.25</td>\n",
       "    </tr>\n",
       "  </tbody>\n",
       "</table>\n",
       "</div>"
      ],
      "text/plain": [
       "   order_id  quantity                              item_name  \\\n",
       "0         1         1           Chips and Fresh Tomato Salsa   \n",
       "1         1         1                                   Izze   \n",
       "2         1         1                       Nantucket Nectar   \n",
       "3         1         1  Chips and Tomatillo-Green Chili Salsa   \n",
       "4         2         2                           Chicken Bowl   \n",
       "5         3         1                           Chicken Bowl   \n",
       "6         3         1                          Side of Chips   \n",
       "7         4         1                          Steak Burrito   \n",
       "8         4         1                       Steak Soft Tacos   \n",
       "9         5         1                          Steak Burrito   \n",
       "\n",
       "                                  choice_description item_price  \n",
       "0                                                NaN     $2.39   \n",
       "1                                       [Clementine]     $3.39   \n",
       "2                                            [Apple]     $3.39   \n",
       "3                                                NaN     $2.39   \n",
       "4  [Tomatillo-Red Chili Salsa (Hot), [Black Beans...    $16.98   \n",
       "5  [Fresh Tomato Salsa (Mild), [Rice, Cheese, Sou...    $10.98   \n",
       "6                                                NaN     $1.69   \n",
       "7  [Tomatillo Red Chili Salsa, [Fajita Vegetables...    $11.75   \n",
       "8  [Tomatillo Green Chili Salsa, [Pinto Beans, Ch...     $9.25   \n",
       "9  [Fresh Tomato Salsa, [Rice, Black Beans, Pinto...     $9.25   "
      ]
     },
     "execution_count": 101,
     "metadata": {},
     "output_type": "execute_result"
    }
   ],
   "source": [
    "Chipo.head(10)"
   ]
  },
  {
   "cell_type": "code",
   "execution_count": 102,
   "id": "b8c1debf-a3cb-45ef-adc5-0a19f8feec85",
   "metadata": {
    "tags": []
   },
   "outputs": [
    {
     "name": "stdout",
     "output_type": "stream",
     "text": [
      "Number of observations in the dataset is:  4622\n"
     ]
    }
   ],
   "source": [
    "print(\"Number of observations in the dataset is: \", len(Chipo))"
   ]
  },
  {
   "cell_type": "code",
   "execution_count": 103,
   "id": "96096a12-daee-4b8b-b5d3-5642c72d27c7",
   "metadata": {
    "tags": []
   },
   "outputs": [
    {
     "name": "stdout",
     "output_type": "stream",
     "text": [
      "The Number of Columns in the dataset is:  5\n"
     ]
    }
   ],
   "source": [
    "print(\"The Number of Columns in the dataset is: \", len(Chipo.columns))"
   ]
  },
  {
   "cell_type": "code",
   "execution_count": 104,
   "id": "cb1c0688-33e2-4599-835d-4b3e07ec0c49",
   "metadata": {
    "tags": []
   },
   "outputs": [
    {
     "name": "stdout",
     "output_type": "stream",
     "text": [
      "order_id\n",
      "quantity\n",
      "item_name\n",
      "choice_description\n",
      "item_price\n"
     ]
    }
   ],
   "source": [
    "for Columns in Chipo.columns:\n",
    "    print(Columns)"
   ]
  },
  {
   "cell_type": "code",
   "execution_count": 105,
   "id": "1947e856-02df-4109-927f-f750425e8389",
   "metadata": {
    "tags": []
   },
   "outputs": [
    {
     "name": "stdout",
     "output_type": "stream",
     "text": [
      "RangeIndex(start=0, stop=4622, step=1)\n"
     ]
    }
   ],
   "source": [
    "print(Chipo.index)"
   ]
  },
  {
   "cell_type": "code",
   "execution_count": 107,
   "id": "7bc44f53-6865-4cee-a21a-97aa0a8de0f4",
   "metadata": {
    "tags": []
   },
   "outputs": [
    {
     "name": "stdout",
     "output_type": "stream",
     "text": [
      "The item with the highest number of orders is:  Chicken Bowl\n",
      "The frequency of its orders:  761\n"
     ]
    }
   ],
   "source": [
    "Orders = Chipo.groupby('item_name')['quantity'].sum()\n",
    "Most_Ordered_Item = Orders.idxmax()\n",
    "Most_Ordered_Item_Quantity = Orders.max()\n",
    "print(\"The item with the highest number of orders is: \", Most_Ordered_Item)\n",
    "print(\"The frequency of its orders: \", Most_Ordered_Item_Quantity)"
   ]
  },
  {
   "cell_type": "code",
   "execution_count": 110,
   "id": "872709e0-ada4-4726-9697-be62ed18c3b1",
   "metadata": {
    "tags": []
   },
   "outputs": [
    {
     "name": "stdout",
     "output_type": "stream",
     "text": [
      "The Most Ordered item in the Choice_Description column is:  [Diet Coke]\n"
     ]
    }
   ],
   "source": [
    "Choice_Description = Chipo.groupby('choice_description')['quantity'].sum()\n",
    "Most_Ordered = Choice_Description.idxmax()\n",
    "\n",
    "print(\"The Most Ordered item in the Choice_Description column is: \", Most_Ordered)"
   ]
  },
  {
   "cell_type": "code",
   "execution_count": 111,
   "id": "b37b58a8-9bbf-422c-8f05-ad9c718d6b6e",
   "metadata": {
    "tags": []
   },
   "outputs": [
    {
     "name": "stdout",
     "output_type": "stream",
     "text": [
      "The Total number of orders are:  4972\n"
     ]
    }
   ],
   "source": [
    "Total_Number_of_Orders = Chipo['quantity'].sum()\n",
    "print(\"The Total number of orders are: \", Total_Number_of_Orders)"
   ]
  },
  {
   "cell_type": "code",
   "execution_count": 117,
   "id": "ab8c73ee-4186-4c33-a6e2-90ef1702eb2d",
   "metadata": {
    "tags": []
   },
   "outputs": [
    {
     "name": "stdout",
     "output_type": "stream",
     "text": [
      "float64\n",
      "Item price type after applying lambda function:  float64\n"
     ]
    }
   ],
   "source": [
    "Chipo['item_price'] = pd.to_numeric(Chipo['item_price'])\n",
    "print(Chipo['item_price'].dtype)\n",
    "Chipo['item_price'] = Chipo['item_price'].apply(lambda x: float(x))\n",
    "print(\"Item price type after applying lambda function: \", Chipo['item_price'].dtype)"
   ]
  },
  {
   "cell_type": "code",
   "execution_count": 118,
   "id": "46bf16eb-f5b1-431f-a980-23f8ee364b4a",
   "metadata": {
    "tags": []
   },
   "outputs": [
    {
     "name": "stdout",
     "output_type": "stream",
     "text": [
      "Revenue for the Period is:  39237.02\n"
     ]
    }
   ],
   "source": [
    "Revenue_for_the_Period = (Chipo['quantity'] * Chipo['item_price']).sum()\n",
    "print(\"Revenue for the Period is: \", Revenue_for_the_Period)"
   ]
  },
  {
   "cell_type": "code",
   "execution_count": 122,
   "id": "2f6211f5-0eef-4386-afa5-3c4d47e41526",
   "metadata": {
    "tags": []
   },
   "outputs": [
    {
     "name": "stdout",
     "output_type": "stream",
     "text": [
      "Number of Orders made in the Period:  1834\n"
     ]
    }
   ],
   "source": [
    "Number_of_Orders_in_the_Period = Chipo['order_id'].nunique()\n",
    "print(\"Number of Orders made in the Period: \", Number_of_Orders_in_the_Period)"
   ]
  },
  {
   "cell_type": "code",
   "execution_count": 123,
   "id": "0637552c-3911-4b1b-996c-d4df8d84b0e3",
   "metadata": {
    "tags": []
   },
   "outputs": [
    {
     "name": "stdout",
     "output_type": "stream",
     "text": [
      "Average revenue per order is:  21.39423118865867\n"
     ]
    }
   ],
   "source": [
    "Avg_Revenue_amount_per_order = Revenue_for_the_Period / Number_of_Orders_in_the_Period\n",
    "print(\"Average revenue per order is: \", Avg_Revenue_amount_per_order)"
   ]
  },
  {
   "cell_type": "code",
   "execution_count": 125,
   "id": "446af716-3dc4-4947-bfd1-028ae949fa6d",
   "metadata": {
    "tags": []
   },
   "outputs": [
    {
     "name": "stdout",
     "output_type": "stream",
     "text": [
      "Unique items:  50\n"
     ]
    }
   ],
   "source": [
    "Distinct_items = Chipo['item_name'].nunique()\n",
    "print(\"Unique items: \", Distinct_items)"
   ]
  },
  {
   "cell_type": "markdown",
   "id": "e9288cae-d9f6-458f-b60c-d940a1045d6b",
   "metadata": {},
   "source": [
    "# Answer 6"
   ]
  },
  {
   "cell_type": "code",
   "execution_count": 48,
   "id": "a412d055-2389-4473-823a-ef61463cddbc",
   "metadata": {
    "tags": []
   },
   "outputs": [],
   "source": [
    "import matplotlib.pyplot as plt"
   ]
  },
  {
   "cell_type": "code",
   "execution_count": 55,
   "id": "e69be80c-fa7c-4dbb-959a-a37f6d99b361",
   "metadata": {
    "tags": []
   },
   "outputs": [],
   "source": [
    "US_Marriages_Divorces = pd.read_csv('us-marriages-divorces-1867-2014.csv')"
   ]
  },
  {
   "cell_type": "code",
   "execution_count": 57,
   "id": "d179639c-4f5a-4936-b353-32017fd0cc77",
   "metadata": {
    "tags": []
   },
   "outputs": [
    {
     "data": {
      "text/plain": [
       "<matplotlib.legend.Legend at 0x161c41985d0>"
      ]
     },
     "execution_count": 57,
     "metadata": {},
     "output_type": "execute_result"
    },
    {
     "data": {
      "image/png": "[encoded data removed]",
      "text/plain": [
       "<Figure size 640x480 with 1 Axes>"
      ]
     },
     "metadata": {},
     "output_type": "display_data"
    }
   ],
   "source": [
    "plt.plot(US_Marriages_Divorces['Year'], US_Marriages_Divorces['Marriages_per_1000'], label='Marriages Per 1000')\n",
    "plt.plot(US_Marriages_Divorces['Year'], US_Marriages_Divorces['Divorces_per_1000'], label='Divorces Per 1000')\n",
    "plt.xlabel('Year')\n",
    "plt.ylabel('Number of US Marriages Divorces Per Capita')\n",
    "plt.title('Number of US Marriages and Divorces Per Capita (Between 1867 and 2014)')\n",
    "plt.legend()"
   ]
  },
  {
   "cell_type": "markdown",
   "id": "5ab6129c-e32a-4635-a23e-81e297c4acff",
   "metadata": {},
   "source": [
    "# Answer 7"
   ]
  },
  {
   "cell_type": "code",
   "execution_count": 60,
   "id": "470cd6e3-2bf1-45e4-aeae-73dcb4a5135b",
   "metadata": {
    "tags": []
   },
   "outputs": [
    {
     "data": {
      "text/plain": [
       "<matplotlib.legend.Legend at 0x161c3e6a2d0>"
      ]
     },
     "execution_count": 60,
     "metadata": {},
     "output_type": "execute_result"
    },
    {
     "data": {
      "image/png": "[encoded data removed]",
      "text/plain": [
       "<Figure size 640x480 with 1 Axes>"
      ]
     },
     "metadata": {},
     "output_type": "display_data"
    }
   ],
   "source": [
    "Chosen_Years = US_Marriages_Divorces[US_Marriages_Divorces['Year'].isin([1900, 1950, 2000])]\n",
    "plt.bar(Chosen_Years['Year'], Chosen_Years['Marriages_per_1000'], label='Marriages Per 1000')\n",
    "plt.bar(Chosen_Years['Year'], Chosen_Years['Divorces_per_1000'], bottom=Chosen_Years['Marriages_per_1000'], label='Divorces Per 1000')\n",
    "plt.xlabel('Year')\n",
    "plt.ylabel('Per Capita')\n",
    "plt.title('Number of US Marriages and Divorces Per Capita (Between 1900, 1950, and 2000)')\n",
    "plt.legend()"
   ]
  },
  {
   "cell_type": "markdown",
   "id": "ad609792-458a-46c6-9965-36b26c3b73c7",
   "metadata": {},
   "source": [
    "# Answer 8"
   ]
  },
  {
   "cell_type": "code",
   "execution_count": 73,
   "id": "7e45c551-b590-4021-9850-a8571c328ed3",
   "metadata": {
    "tags": []
   },
   "outputs": [
    {
     "data": {
      "text/plain": [
       "Text(0.5, 1.0, 'The Deadliest Actors in Hollywood')"
      ]
     },
     "execution_count": 73,
     "metadata": {},
     "output_type": "execute_result"
    },
    {
     "data": {
      "image/png": "[encoded data removed]",
      "text/plain": [
       "<Figure size 640x480 with 1 Axes>"
      ]
     },
     "metadata": {},
     "output_type": "display_data"
    }
   ],
   "source": [
    "Hollywood_Actors = pd.read_csv('actor_kill_counts.csv')\n",
    "HollywoodActors = Hollywood_Actors.sort_values(by='Count', ascending=True)\n",
    "plt.barh(actors['Actor'], HollywoodActors['Count'], color='orange')\n",
    "plt.xlabel('Kill Count')\n",
    "plt.ylabel('Actors')\n",
    "plt.title('The Deadliest Actors in Hollywood')"
   ]
  },
  {
   "cell_type": "markdown",
   "id": "c277cdbe-d401-4012-940d-a85cfb0e7e0e",
   "metadata": {},
   "source": [
    "# Answer 9"
   ]
  },
  {
   "cell_type": "code",
   "execution_count": 77,
   "id": "8b65b7c6-ce80-493d-a477-b18899528bb3",
   "metadata": {
    "tags": []
   },
   "outputs": [
    {
     "data": {
      "text/plain": [
       "Text(0.5, 1.0, 'The Proportion of Roman Emperors who were Assassinated.')"
      ]
     },
     "execution_count": 77,
     "metadata": {},
     "output_type": "execute_result"
    },
    {
     "data": {
      "image/png": "[encoded data removed]",
      "text/plain": [
       "<Figure size 640x480 with 1 Axes>"
      ]
     },
     "metadata": {},
     "output_type": "display_data"
    }
   ],
   "source": [
    "Roman_Emperors = pd.read_csv('roman-emperor-reigns.csv')\n",
    "Assassination_Count = Roman_Emperors['Cause_of_Death'].value_counts().get('Assassinated')\n",
    "Distinct_Count = len(Roman_Emperors) - Assassination_Count\n",
    "colors = ['purple', 'lightgreen']\n",
    "plt.pie([Assassination_Count, Distinct_Count], labels=['Assassinated', 'Distinct'], colors=colors)\n",
    "plt.title('The Proportion of Roman Emperors who were Assassinated.')"
   ]
  },
  {
   "cell_type": "markdown",
   "id": "4d501d4c-e8fb-4e50-bc29-8f9f031f97fb",
   "metadata": {},
   "source": [
    "# Answer 10"
   ]
  },
  {
   "cell_type": "code",
   "execution_count": 72,
   "id": "a7c3ea80-4f53-41da-8e6a-c7b4363c9aa6",
   "metadata": {
    "tags": []
   },
   "outputs": [
    {
     "data": {
      "text/plain": [
       "Text(0.5, 1.0, 'The connection between total Arcade Revenue and the number of Computer Science PhDs awarded in the U.S. from 2000 to 2009.')"
      ]
     },
     "execution_count": 72,
     "metadata": {},
     "output_type": "execute_result"
    },
    {
     "data": {
      "image/png": "[encoded data removed]",
      "text/plain": [
       "<Figure size 640x480 with 1 Axes>"
      ]
     },
     "metadata": {},
     "output_type": "display_data"
    }
   ],
   "source": [
    "Arcades_Revenue = pd.read_csv('arcade-revenue-vs-cs-doctorates.csv')\n",
    "scatter = plt.scatter(Arcades_Revenue['Total Arcade Revenue (billions)'], Arcades_Revenue['Computer Science Doctorates Awarded (US)'], c=Arcades_Revenue['Year'], cmap='viridis', edgecolors='Red', s=100)\n",
    "plt.xlabel('Total Arcade Revenue in Billions)')\n",
    "plt.ylabel('Computer Science PhDs awarded in the U.S.')\n",
    "plt.title('The connection between total Arcade Revenue and the number of Computer Science PhDs awarded in the U.S. from 2000 to 2009.')"
   ]
  },
  {
   "cell_type": "code",
   "execution_count": null,
   "id": "9e7fcc1f",
   "metadata": {},
   "outputs": [],
   "source": []
  }
 ],
 "metadata": {
  "kernelspec": {
   "display_name": "Python 3 (ipykernel)",
   "language": "python",
   "name": "python3"
  },
  "language_info": {
   "codemirror_mode": {
    "name": "ipython",
    "version": 3
   },
   "file_extension": ".py",
   "mimetype": "text/x-python",
   "name": "python",
   "nbconvert_exporter": "python",
   "pygments_lexer": "ipython3",
   "version": "3.11.4"
  }
 },
 "nbformat": 4,
 "nbformat_minor": 5
}
